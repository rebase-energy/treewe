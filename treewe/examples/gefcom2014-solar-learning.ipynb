{
 "cells": [
  {
   "cell_type": "code",
   "execution_count": 1,
   "metadata": {},
   "outputs": [],
   "source": [
    "import numpy as np\n",
    "import pandas as pd\n",
    "from tqdm import tqdm\n",
    "\n",
    "import gymnasium as gym\n",
    "import enflow as ef\n",
    "import treewe as tr"
   ]
  },
  {
   "cell_type": "markdown",
   "metadata": {},
   "source": [
    "### Step 1) Define the energy system "
   ]
  },
  {
   "cell_type": "code",
   "execution_count": 2,
   "metadata": {},
   "outputs": [
    {
     "data": {
      "text/plain": [
       "['gefcom2014-wind', 'gefcom2014-solar']"
      ]
     },
     "execution_count": 2,
     "metadata": {},
     "output_type": "execute_result"
    }
   ],
   "source": [
    "tr.list_problems()"
   ]
  },
  {
   "cell_type": "code",
   "execution_count": 3,
   "metadata": {},
   "outputs": [],
   "source": [
    "dataset = tr.load_dataset(\"gefcom2014-solar\")"
   ]
  },
  {
   "cell_type": "code",
   "execution_count": 4,
   "metadata": {},
   "outputs": [
    {
     "name": "stdout",
     "output_type": "stream",
     "text": [
      "Portfolio (edm.Portfolio)\n",
      "├── Site1 (edm.PVSystem)\n",
      "├── Site2 (edm.PVSystem)\n",
      "└── Site3 (edm.PVSystem)\n"
     ]
    }
   ],
   "source": [
    "portfolio = dataset.collection\n",
    "portfolio.draw_tree(show_type=True)"
   ]
  },
  {
   "cell_type": "markdown",
   "metadata": {},
   "source": [
    "### Step 2) Define state, exogeneous and action spaces"
   ]
  },
  {
   "cell_type": "code",
   "execution_count": 10,
   "metadata": {},
   "outputs": [],
   "source": [
    "state_space = ef.DataFrameSpace({asset.name: {\n",
    "    'U10': gym.spaces.Box(low=-np.inf, high=np.inf, shape=(1,), dtype=np.float32),\n",
    "    'V10': gym.spaces.Box(low=-np.inf, high=np.inf, shape=(1,), dtype=np.float32),\n",
    "    'U100': gym.spaces.Box(low=-np.inf, high=np.inf, shape=(1,), dtype=np.float32),\n",
    "    'V100': gym.spaces.Box(low=-np.inf, high=np.inf, shape=(1,), dtype=np.float32),\n",
    "    'Power': gym.spaces.Box(low=0, high=1, shape=(1,), dtype=np.float32)\n",
    "} for asset in portfolio.assets})\n",
    "\n",
    "n_quantiles = 99\n",
    "\n",
    "action_space = ef.DataFrameSpace({asset.name: {\n",
    "    f\"Quantile_forecast_{i+1}\": gym.spaces.Box(low=0, high=1, shape=(1,)) for i in range(n_quantiles)\n",
    "} for asset in portfolio.assets})\n"
   ]
  },
  {
   "cell_type": "code",
   "execution_count": 11,
   "metadata": {},
   "outputs": [
    {
     "data": {
      "text/html": [
       "<div>\n",
       "<style scoped>\n",
       "    .dataframe tbody tr th:only-of-type {\n",
       "        vertical-align: middle;\n",
       "    }\n",
       "\n",
       "    .dataframe tbody tr th {\n",
       "        vertical-align: top;\n",
       "    }\n",
       "\n",
       "    .dataframe thead tr th {\n",
       "        text-align: left;\n",
       "    }\n",
       "</style>\n",
       "<table border=\"1\" class=\"dataframe\">\n",
       "  <thead>\n",
       "    <tr>\n",
       "      <th></th>\n",
       "      <th colspan=\"5\" halign=\"left\">Site1</th>\n",
       "      <th colspan=\"5\" halign=\"left\">Site2</th>\n",
       "      <th colspan=\"5\" halign=\"left\">Site3</th>\n",
       "    </tr>\n",
       "    <tr>\n",
       "      <th></th>\n",
       "      <th>Power</th>\n",
       "      <th>U10</th>\n",
       "      <th>U100</th>\n",
       "      <th>V10</th>\n",
       "      <th>V100</th>\n",
       "      <th>Power</th>\n",
       "      <th>U10</th>\n",
       "      <th>U100</th>\n",
       "      <th>V10</th>\n",
       "      <th>V100</th>\n",
       "      <th>Power</th>\n",
       "      <th>U10</th>\n",
       "      <th>U100</th>\n",
       "      <th>V10</th>\n",
       "      <th>V100</th>\n",
       "    </tr>\n",
       "  </thead>\n",
       "  <tbody>\n",
       "    <tr>\n",
       "      <th>0</th>\n",
       "      <td>0.737256</td>\n",
       "      <td>-0.751830</td>\n",
       "      <td>-1.536991</td>\n",
       "      <td>0.755417</td>\n",
       "      <td>-1.581942</td>\n",
       "      <td>0.048781</td>\n",
       "      <td>-0.763723</td>\n",
       "      <td>-1.810561</td>\n",
       "      <td>-0.380524</td>\n",
       "      <td>0.967883</td>\n",
       "      <td>0.371788</td>\n",
       "      <td>-1.598036</td>\n",
       "      <td>-1.174271</td>\n",
       "      <td>-0.467938</td>\n",
       "      <td>2.281934</td>\n",
       "    </tr>\n",
       "    <tr>\n",
       "      <th>1</th>\n",
       "      <td>0.543944</td>\n",
       "      <td>-0.340351</td>\n",
       "      <td>0.591422</td>\n",
       "      <td>-0.130732</td>\n",
       "      <td>-0.221650</td>\n",
       "      <td>0.334989</td>\n",
       "      <td>-1.700264</td>\n",
       "      <td>-0.145235</td>\n",
       "      <td>-1.004418</td>\n",
       "      <td>0.219528</td>\n",
       "      <td>0.841903</td>\n",
       "      <td>-0.697837</td>\n",
       "      <td>-0.015708</td>\n",
       "      <td>-0.005774</td>\n",
       "      <td>0.997622</td>\n",
       "    </tr>\n",
       "    <tr>\n",
       "      <th>2</th>\n",
       "      <td>0.133533</td>\n",
       "      <td>-0.037239</td>\n",
       "      <td>0.547915</td>\n",
       "      <td>-0.014326</td>\n",
       "      <td>0.559547</td>\n",
       "      <td>0.927278</td>\n",
       "      <td>-0.253830</td>\n",
       "      <td>0.785425</td>\n",
       "      <td>-2.477973</td>\n",
       "      <td>-0.105623</td>\n",
       "      <td>0.303084</td>\n",
       "      <td>0.185082</td>\n",
       "      <td>0.785822</td>\n",
       "      <td>-0.681881</td>\n",
       "      <td>0.781910</td>\n",
       "    </tr>\n",
       "    <tr>\n",
       "      <th>3</th>\n",
       "      <td>0.320638</td>\n",
       "      <td>-0.655850</td>\n",
       "      <td>-0.874910</td>\n",
       "      <td>0.500005</td>\n",
       "      <td>0.634366</td>\n",
       "      <td>0.669790</td>\n",
       "      <td>-1.119885</td>\n",
       "      <td>0.491749</td>\n",
       "      <td>-0.205429</td>\n",
       "      <td>-0.056217</td>\n",
       "      <td>0.020314</td>\n",
       "      <td>-0.006377</td>\n",
       "      <td>-0.064132</td>\n",
       "      <td>-1.394711</td>\n",
       "      <td>-0.986075</td>\n",
       "    </tr>\n",
       "    <tr>\n",
       "      <th>4</th>\n",
       "      <td>0.370866</td>\n",
       "      <td>1.942801</td>\n",
       "      <td>-1.284620</td>\n",
       "      <td>-0.317229</td>\n",
       "      <td>-0.950991</td>\n",
       "      <td>0.375056</td>\n",
       "      <td>0.067126</td>\n",
       "      <td>-0.468829</td>\n",
       "      <td>-0.584113</td>\n",
       "      <td>-1.859505</td>\n",
       "      <td>0.471101</td>\n",
       "      <td>-1.506589</td>\n",
       "      <td>0.055028</td>\n",
       "      <td>-0.238244</td>\n",
       "      <td>1.098616</td>\n",
       "    </tr>\n",
       "  </tbody>\n",
       "</table>\n",
       "</div>"
      ],
      "text/plain": [
       "      Site1                                             Site2            \\\n",
       "      Power       U10      U100       V10      V100     Power       U10   \n",
       "0  0.737256 -0.751830 -1.536991  0.755417 -1.581942  0.048781 -0.763723   \n",
       "1  0.543944 -0.340351  0.591422 -0.130732 -0.221650  0.334989 -1.700264   \n",
       "2  0.133533 -0.037239  0.547915 -0.014326  0.559547  0.927278 -0.253830   \n",
       "3  0.320638 -0.655850 -0.874910  0.500005  0.634366  0.669790 -1.119885   \n",
       "4  0.370866  1.942801 -1.284620 -0.317229 -0.950991  0.375056  0.067126   \n",
       "\n",
       "                                    Site3                                \\\n",
       "       U100       V10      V100     Power       U10      U100       V10   \n",
       "0 -1.810561 -0.380524  0.967883  0.371788 -1.598036 -1.174271 -0.467938   \n",
       "1 -0.145235 -1.004418  0.219528  0.841903 -0.697837 -0.015708 -0.005774   \n",
       "2  0.785425 -2.477973 -0.105623  0.303084  0.185082  0.785822 -0.681881   \n",
       "3  0.491749 -0.205429 -0.056217  0.020314 -0.006377 -0.064132 -1.394711   \n",
       "4 -0.468829 -0.584113 -1.859505  0.471101 -1.506589  0.055028 -0.238244   \n",
       "\n",
       "             \n",
       "       V100  \n",
       "0  2.281934  \n",
       "1  0.997622  \n",
       "2  0.781910  \n",
       "3 -0.986075  \n",
       "4  1.098616  "
      ]
     },
     "execution_count": 11,
     "metadata": {},
     "output_type": "execute_result"
    }
   ],
   "source": [
    "state_space.sample(n_rows=5)"
   ]
  },
  {
   "cell_type": "code",
   "execution_count": 12,
   "metadata": {},
   "outputs": [
    {
     "data": {
      "text/html": [
       "<div>\n",
       "<style scoped>\n",
       "    .dataframe tbody tr th:only-of-type {\n",
       "        vertical-align: middle;\n",
       "    }\n",
       "\n",
       "    .dataframe tbody tr th {\n",
       "        vertical-align: top;\n",
       "    }\n",
       "\n",
       "    .dataframe thead tr th {\n",
       "        text-align: left;\n",
       "    }\n",
       "</style>\n",
       "<table border=\"1\" class=\"dataframe\">\n",
       "  <thead>\n",
       "    <tr>\n",
       "      <th></th>\n",
       "      <th colspan=\"10\" halign=\"left\">Site1</th>\n",
       "      <th>...</th>\n",
       "      <th colspan=\"10\" halign=\"left\">Site3</th>\n",
       "    </tr>\n",
       "    <tr>\n",
       "      <th></th>\n",
       "      <th>Quantile_forecast_1</th>\n",
       "      <th>Quantile_forecast_10</th>\n",
       "      <th>Quantile_forecast_11</th>\n",
       "      <th>Quantile_forecast_12</th>\n",
       "      <th>Quantile_forecast_13</th>\n",
       "      <th>Quantile_forecast_14</th>\n",
       "      <th>Quantile_forecast_15</th>\n",
       "      <th>Quantile_forecast_16</th>\n",
       "      <th>Quantile_forecast_17</th>\n",
       "      <th>Quantile_forecast_18</th>\n",
       "      <th>...</th>\n",
       "      <th>Quantile_forecast_90</th>\n",
       "      <th>Quantile_forecast_91</th>\n",
       "      <th>Quantile_forecast_92</th>\n",
       "      <th>Quantile_forecast_93</th>\n",
       "      <th>Quantile_forecast_94</th>\n",
       "      <th>Quantile_forecast_95</th>\n",
       "      <th>Quantile_forecast_96</th>\n",
       "      <th>Quantile_forecast_97</th>\n",
       "      <th>Quantile_forecast_98</th>\n",
       "      <th>Quantile_forecast_99</th>\n",
       "    </tr>\n",
       "  </thead>\n",
       "  <tbody>\n",
       "    <tr>\n",
       "      <th>0</th>\n",
       "      <td>0.863047</td>\n",
       "      <td>0.939902</td>\n",
       "      <td>0.771253</td>\n",
       "      <td>0.932563</td>\n",
       "      <td>0.594912</td>\n",
       "      <td>0.557245</td>\n",
       "      <td>0.835497</td>\n",
       "      <td>0.366336</td>\n",
       "      <td>0.476718</td>\n",
       "      <td>0.315786</td>\n",
       "      <td>...</td>\n",
       "      <td>0.448168</td>\n",
       "      <td>0.302170</td>\n",
       "      <td>0.784049</td>\n",
       "      <td>0.578405</td>\n",
       "      <td>0.836419</td>\n",
       "      <td>0.145739</td>\n",
       "      <td>0.616493</td>\n",
       "      <td>0.701822</td>\n",
       "      <td>0.083147</td>\n",
       "      <td>0.210783</td>\n",
       "    </tr>\n",
       "    <tr>\n",
       "      <th>1</th>\n",
       "      <td>0.260139</td>\n",
       "      <td>0.283715</td>\n",
       "      <td>0.558493</td>\n",
       "      <td>0.170394</td>\n",
       "      <td>0.861713</td>\n",
       "      <td>0.546067</td>\n",
       "      <td>0.822939</td>\n",
       "      <td>0.405609</td>\n",
       "      <td>0.567022</td>\n",
       "      <td>0.225068</td>\n",
       "      <td>...</td>\n",
       "      <td>0.345392</td>\n",
       "      <td>0.920148</td>\n",
       "      <td>0.160726</td>\n",
       "      <td>0.854789</td>\n",
       "      <td>0.472743</td>\n",
       "      <td>0.183795</td>\n",
       "      <td>0.444220</td>\n",
       "      <td>0.007380</td>\n",
       "      <td>0.487081</td>\n",
       "      <td>0.564496</td>\n",
       "    </tr>\n",
       "    <tr>\n",
       "      <th>2</th>\n",
       "      <td>0.818887</td>\n",
       "      <td>0.725139</td>\n",
       "      <td>0.928474</td>\n",
       "      <td>0.422387</td>\n",
       "      <td>0.173606</td>\n",
       "      <td>0.941794</td>\n",
       "      <td>0.933963</td>\n",
       "      <td>0.760515</td>\n",
       "      <td>0.674093</td>\n",
       "      <td>0.290903</td>\n",
       "      <td>...</td>\n",
       "      <td>0.321770</td>\n",
       "      <td>0.119083</td>\n",
       "      <td>0.674585</td>\n",
       "      <td>0.154050</td>\n",
       "      <td>0.747058</td>\n",
       "      <td>0.805239</td>\n",
       "      <td>0.621237</td>\n",
       "      <td>0.528136</td>\n",
       "      <td>0.088780</td>\n",
       "      <td>0.801093</td>\n",
       "    </tr>\n",
       "  </tbody>\n",
       "</table>\n",
       "<p>3 rows × 297 columns</p>\n",
       "</div>"
      ],
      "text/plain": [
       "                Site1                                            \\\n",
       "  Quantile_forecast_1 Quantile_forecast_10 Quantile_forecast_11   \n",
       "0            0.863047             0.939902             0.771253   \n",
       "1            0.260139             0.283715             0.558493   \n",
       "2            0.818887             0.725139             0.928474   \n",
       "\n",
       "                                                                  \\\n",
       "  Quantile_forecast_12 Quantile_forecast_13 Quantile_forecast_14   \n",
       "0             0.932563             0.594912             0.557245   \n",
       "1             0.170394             0.861713             0.546067   \n",
       "2             0.422387             0.173606             0.941794   \n",
       "\n",
       "                                                                  \\\n",
       "  Quantile_forecast_15 Quantile_forecast_16 Quantile_forecast_17   \n",
       "0             0.835497             0.366336             0.476718   \n",
       "1             0.822939             0.405609             0.567022   \n",
       "2             0.933963             0.760515             0.674093   \n",
       "\n",
       "                        ...                Site3                       \\\n",
       "  Quantile_forecast_18  ... Quantile_forecast_90 Quantile_forecast_91   \n",
       "0             0.315786  ...             0.448168             0.302170   \n",
       "1             0.225068  ...             0.345392             0.920148   \n",
       "2             0.290903  ...             0.321770             0.119083   \n",
       "\n",
       "                                                                  \\\n",
       "  Quantile_forecast_92 Quantile_forecast_93 Quantile_forecast_94   \n",
       "0             0.784049             0.578405             0.836419   \n",
       "1             0.160726             0.854789             0.472743   \n",
       "2             0.674585             0.154050             0.747058   \n",
       "\n",
       "                                                                  \\\n",
       "  Quantile_forecast_95 Quantile_forecast_96 Quantile_forecast_97   \n",
       "0             0.145739             0.616493             0.701822   \n",
       "1             0.183795             0.444220             0.007380   \n",
       "2             0.805239             0.621237             0.528136   \n",
       "\n",
       "                                             \n",
       "  Quantile_forecast_98 Quantile_forecast_99  \n",
       "0             0.083147             0.210783  \n",
       "1             0.487081             0.564496  \n",
       "2             0.088780             0.801093  \n",
       "\n",
       "[3 rows x 297 columns]"
      ]
     },
     "execution_count": 12,
     "metadata": {},
     "output_type": "execute_result"
    }
   ],
   "source": [
    "action_space.sample(n_rows=3)"
   ]
  },
  {
   "cell_type": "markdown",
   "metadata": {},
   "source": [
    "### Step 3) Create environment"
   ]
  },
  {
   "cell_type": "code",
   "execution_count": 13,
   "metadata": {},
   "outputs": [],
   "source": [
    "class GEFCom2014SolarEnv(gym.Env):\n",
    "    def __init__(self, dataset: ef.Dataset, test_month, n_training_months): \n",
    "        self.dataset = dataset\n",
    "        self.data = dataset.data[\"data_gefcom2014_solar\"]\n",
    "        self.scores = dataset.data[\"scores_gefcom2014_solar\"]\n",
    "        self.input = ['VAR134', 'VAR157', 'VAR164', 'VAR165', 'VAR166', 'VAR167', 'VAR169', 'VAR175', 'VAR178', 'VAR228', 'VAR78', 'VAR79']\n",
    "        self.target = [\"Power\"]\n",
    "        self.state_space = state_space\n",
    "        self.action_space = action_space\n",
    "        self.test_month = test_month\n",
    "        self.n_training_months = n_training_months\n",
    "        self.idx_counter = 0\n",
    "\n",
    "        self._generate_train_test()\n",
    "        self.n_steps = len(self.test)\n",
    "\n",
    "    def _generate_train_test(self):\n",
    "        self.train = []\n",
    "        self.test = []\n",
    "        test_start = pd.to_datetime(self.test_month + \"-01\") + pd.DateOffset(hours=1)\n",
    "        test_end = test_start + pd.DateOffset(months=1) - pd.DateOffset(hours=1)\n",
    "        train_end = test_start - pd.DateOffset(hours=1)\n",
    "        for n in range(1, self.n_training_months+1): \n",
    "            train_start = train_end - pd.DateOffset(months=n) + pd.DateOffset(hours=1)\n",
    "            if train_start < self.data.index[0][1]:\n",
    "                break\n",
    "            self.train.append([train_start, train_end])\n",
    "            self.test.append([test_start, test_end])\n",
    "\n",
    "    def reset(self, return_dataframe=False):\n",
    "        self.idx_counter = 0\n",
    "        training_data = self.data.loc[(self.data.index.get_level_values('valid_datetime') >= self.train[self.idx_counter][0]) &\n",
    "                                      (self.data.index.get_level_values('valid_datetime') <= self.train[self.idx_counter][1])]\n",
    "\n",
    "        first_input = self.data.loc[(self.data.index.get_level_values('valid_datetime') >= self.test[self.idx_counter][0]) &\n",
    "                                    (self.data.index.get_level_values('valid_datetime') <= self.test[self.idx_counter][1]),\n",
    "                                     pd.IndexSlice[:, self.input]]\n",
    "\n",
    "        return first_input, training_data\n",
    "\n",
    "    def step(self, action=None):\n",
    "        self.idx_counter += 1\n",
    "\n",
    "        if self.idx_counter < self.n_steps:\n",
    "            next_input = self.data.loc[(self.data.index.get_level_values('valid_datetime') >= self.test[self.idx_counter][0]) &\n",
    "                                    (self.data.index.get_level_values('valid_datetime') <= self.test[self.idx_counter][1]),\n",
    "                                        pd.IndexSlice[:, self.input]] \n",
    "            \n",
    "            previous_target = self.data.loc[(self.data.index.get_level_values('valid_datetime') >= self.test[self.idx_counter-1][0]) &\n",
    "                                        (self.data.index.get_level_values('valid_datetime') <= self.test[self.idx_counter-1][1]),\n",
    "                                            pd.IndexSlice[:, self.target]]\n",
    "            \n",
    "            training_data = self.data.loc[(self.data.index.get_level_values('valid_datetime') >= self.train[self.idx_counter][0]) &\n",
    "                                        (self.data.index.get_level_values('valid_datetime') <= self.train[self.idx_counter][1])]\n",
    "            \n",
    "            done = False\n",
    "        \n",
    "        elif self.idx_counter == self.n_steps:\n",
    "            previous_target = self.data.loc[(self.data.index.get_level_values('valid_datetime') >= self.test[self.idx_counter-1][0]) &\n",
    "                                        (self.data.index.get_level_values('valid_datetime') <= self.test[self.idx_counter-1][1]),\n",
    "                                            pd.IndexSlice[:, self.target]]\n",
    "            \n",
    "            training_data = None\n",
    "            next_input = None\n",
    "            done = True\n",
    "        \n",
    "        return next_input, previous_target, training_data, done\n",
    "        \n",
    "    def plot_results(self, losses, drop_tasks=None, n_top_teams=None, xlim=None):\n",
    "        df_scores = self.scores\n",
    "        df_scores = df_scores.assign(**losses)\n",
    "        df_scores = df_scores.drop(index=drop_tasks)\n",
    "        df_scores.loc[\"Overall\"] = df_scores.mean()\n",
    "        teams = list(df_scores.drop(columns=losses.keys()).loc[\"Overall\",:].sort_values().iloc[:n_top_teams].index.values)\n",
    "        teams.extend(losses.keys())\n",
    "        ax = df_scores.loc[::-1,teams].plot.barh(title=\"Pinball loss GEFCom20214\")\n",
    "        ax.legend(loc='center left', bbox_to_anchor=(1, 0.5))\n",
    "        if xlim: ax.set_xlim(0, xlim)\n",
    "\n",
    "        return ax\n",
    "\n",
    "    def plot_forecasts(self, training_target, df_predictions, site=\"Site1\"): \n",
    "        import pandas as pd\n",
    "        import plotly.graph_objects as go\n",
    "        df = df_predictions.droplevel(0).loc[:,\"Site1\"]\n",
    "        df_target = training_target.loc[df.index[0]:df.index[-1],:].droplevel(0).loc[:,\"Site1\"]\n",
    "\n",
    "        # Sort quantiles to ensure outer quantiles are filled first\n",
    "        quantile_columns = [col for col in df.columns if col.startswith('quantile')]\n",
    "        quantile_columns.sort(key=lambda x: float(x.split('_')[1]))\n",
    "\n",
    "        # Create the figure\n",
    "        fig = go.Figure()\n",
    "\n",
    "        # Loop over the quantiles and add shaded areas\n",
    "        # Start from the outermost quantiles and move inward\n",
    "        for i in range(len(quantile_columns) // 2):\n",
    "            upper_quantile = quantile_columns[-(i+1)]\n",
    "            lower_quantile = quantile_columns[i]\n",
    "            \n",
    "            # Add the upper quantile line (invisible)\n",
    "            fig.add_trace(go.Scatter(\n",
    "                x=df.index,\n",
    "                y=df[upper_quantile],\n",
    "                mode='lines',\n",
    "                line=dict(color='rgb(0, 0, 255)', width=0),  # No line for the upper bound\n",
    "                fill=None,\n",
    "                showlegend=False,\n",
    "                hoverinfo='skip',  # This disables the hover tooltip\n",
    "                name=f'{upper_quantile}'\n",
    "            ))\n",
    "            \n",
    "            # Add the lower quantile line and fill the area between the two traces\n",
    "            fig.add_trace(go.Scatter(\n",
    "                x=df.index,\n",
    "                y=df[lower_quantile],\n",
    "                mode='lines',\n",
    "                line=dict(width=0),  # No line for the lower bound\n",
    "                fill='tonexty',  # Fill between this trace and the previous one\n",
    "                fillcolor=f'rgba(0, 0, 255, {0.1 + i * 0.1})',  # Increasing opacity for each quantile band\n",
    "                showlegend=False,\n",
    "                hoverinfo='skip',  # This disables the hover tooltip\n",
    "                name=f'{lower_quantile}'\n",
    "            ))\n",
    "\n",
    "        fig.add_trace(go.Scatter(\n",
    "            x=df.index,\n",
    "            y=df[\"quantile_50\"],\n",
    "            mode='lines',\n",
    "            line=dict(color='blue', width=1),  # Central forecast line\n",
    "            showlegend=False,\n",
    "            name='Median'\n",
    "        ))\n",
    "\n",
    "        fig.add_trace(go.Scatter(\n",
    "            x=df_target.index,\n",
    "            y=df_target[\"Power\"],\n",
    "            mode='lines',\n",
    "            line=dict(color='rgba(200, 0, 0, 0.5)', width=2),  # Central forecast line\n",
    "            showlegend=False,\n",
    "            name='Power'\n",
    "        ))\n",
    "\n",
    "        # Customize layout\n",
    "        fig.update_layout(\n",
    "            title='GEFCom2014 Wind Power Forecast',\n",
    "            xaxis_title='Time',\n",
    "            yaxis_title='Value',\n",
    "            hovermode=\"x\"\n",
    "        )\n",
    "\n",
    "        # Add range slider\n",
    "        fig.update_layout(\n",
    "            xaxis=dict(\n",
    "                rangeslider=dict(\n",
    "                    visible=True\n",
    "                ),\n",
    "                type=\"date\"\n",
    "            )\n",
    "        )\n",
    "\n",
    "        # Show the plot\n",
    "        fig.show()\n"
   ]
  },
  {
   "cell_type": "markdown",
   "metadata": {},
   "source": [
    "### Step 4) Define the objective\n"
   ]
  },
  {
   "cell_type": "code",
   "execution_count": 14,
   "metadata": {},
   "outputs": [],
   "source": [
    "from enflow.problems.objective import PinballLoss\n",
    "\n",
    "obj = PinballLoss(quantiles=[0.1, 0.5, 0.9])"
   ]
  },
  {
   "cell_type": "markdown",
   "metadata": {},
   "source": [
    "### Step 5) Create the model\n"
   ]
  },
  {
   "cell_type": "code",
   "execution_count": 15,
   "metadata": {},
   "outputs": [],
   "source": [
    "import lightgbm as lgb\n",
    "import pandas as pd\n",
    "from contextlib import nullcontext\n",
    "\n",
    "class LGBGEFCom2014Predictor(ef.Predictor):\n",
    "    def __init__(self, name=None, quantiles=None):\n",
    "        \"\"\"\n",
    "        Initialize the Predictor class.\n",
    "        \n",
    "        Args:\n",
    "            quantiles (list): List of quantiles for which to create separate models.\n",
    "                              Example: [0.1, 0.5, 0.9]\n",
    "        \"\"\"\n",
    "        self.name = name\n",
    "        self.models = {}  # Dictionary to hold models for each site and quantile\n",
    "        self.quantiles = quantiles\n",
    "        \n",
    "    def train(self, features: pd.DataFrame, target: pd.DataFrame, show_progress=True, **kwargs):\n",
    "        \"\"\"\n",
    "        Train separate LightGBM models for each site and quantile.\n",
    "        \n",
    "        Args:\n",
    "            features (pd.DataFrame): Multi-indexed dataframe where the top-level index corresponds to sites.\n",
    "            target (pd.DataFrame): The target dataframe (y), also multi-indexed by site.\n",
    "            kwargs: Additional parameters to pass to the LightGBMRegressor model.\n",
    "        \"\"\"\n",
    "        # Get the list of unique sites from the multi-index (top level)\n",
    "        sites = features.columns.get_level_values(0).unique()\n",
    "        feature_names = features.columns.get_level_values(1).unique()\n",
    "\n",
    "        pbar = tqdm(total=len(sites)*len(self.quantiles), mininterval=0, desc=f\"Training {self.name}\") if show_progress else nullcontext()\n",
    "\n",
    "        with pbar as progress: \n",
    "            # Loop over each site\n",
    "            for site in sites:\n",
    "                # Extract the features and target for the current site\n",
    "                site_features = features.xs(site, axis=1, level=0)\n",
    "                site_target = target.xs(site, axis=1, level=0)\n",
    "\n",
    "                # Loop over each quantile\n",
    "                for quantile in self.quantiles:\n",
    "                    # Initialize a LightGBM model for this quantile\n",
    "                    params = {'objective': 'quantile', 'alpha': quantile, \"verbose\": -1}\n",
    "                    params.update(kwargs)  # Add any additional LightGBM parameters\n",
    "                    \n",
    "                    model = lgb.LGBMRegressor(**params)\n",
    "                    \n",
    "                    # Train the model on the site's data\n",
    "                    model.fit(site_features, site_target)\n",
    "                    \n",
    "                    # Store the trained model with a key (site, quantile)\n",
    "                    self.models[(site, quantile)] = model\n",
    "                    \n",
    "                    if show_progress: \n",
    "                        progress.update(1)\n",
    "\n",
    "    def predict(self, features: pd.DataFrame):\n",
    "        \"\"\"\n",
    "        Make predictions for a specific site and quantile using the trained model.\n",
    "        \n",
    "        Args:\n",
    "            features (pd.DataFrame): The feature dataframe (X), multi-indexed by site.\n",
    "            site (str): The site for which to make predictions.\n",
    "            quantile (float): The quantile for which to make predictions.\n",
    "        \n",
    "        Returns:\n",
    "            np.array: Predictions from the model.\n",
    "        \"\"\"\n",
    "\n",
    "        # Create a nested dictionary to store predictions\n",
    "        predictions = {}\n",
    "\n",
    "        # Extract the features for the specific site\n",
    "        sites = features.columns.get_level_values(0).unique()\n",
    "\n",
    "        # Loop over each site and quantile\n",
    "        for site in sites:\n",
    "            # Extract the features for the current site\n",
    "            site_features = features.xs(site, axis=1, level=0)\n",
    "\n",
    "            # Initialize an inner dictionary for each site\n",
    "\n",
    "            for quantile in self.quantiles:\n",
    "                # Check if the model for the given site and quantile exists\n",
    "                if (site, quantile) not in self.models:\n",
    "                    raise ValueError(f\"No trained model for site '{site}' and quantile '{quantile}'.\")\n",
    "\n",
    "                # Make predictions using the stored model\n",
    "                model = self.models[(site, quantile)]\n",
    "                site_predictions = model.predict(site_features)\n",
    "\n",
    "                # Store the predictions under the quantile for the current site\n",
    "                predictions[(site, f\"quantile_{round(100*quantile)}\")] = site_predictions\n",
    "\n",
    "        # Convert the nested dictionary to a DataFrame with multi-index columns\n",
    "        predictions = pd.DataFrame.from_dict(predictions)\n",
    "        predictions.index = features.index\n",
    "        \n",
    "        return predictions\n"
   ]
  },
  {
   "cell_type": "markdown",
   "metadata": {},
   "source": [
    "### Step 6) Run the sequential decision loop and evaluate performance"
   ]
  },
  {
   "cell_type": "code",
   "execution_count": 49,
   "metadata": {},
   "outputs": [
    {
     "name": "stderr",
     "output_type": "stream",
     "text": [
      "Test month: 2014-06. Training months: 18. : 100%|██████████| 108/108 [01:03<00:00,  1.48it/s]"
     ]
    }
   ],
   "source": [
    "n_test_months = 6\n",
    "n_training_months = 18\n",
    "months = pd.date_range(end=\"2014-06\", periods=n_test_months, freq='MS')\n",
    "months = months.strftime(\"%Y-%m\").tolist()\n",
    "\n",
    "losses_i = []\n",
    "obj = PinballLoss(quantiles=[0.5])\n",
    "if \"pbar\" in globals(): pbar.close();\n",
    "pbar = tqdm(total=n_test_months*n_training_months, mininterval=0, leave=False)\n",
    "for i, month in enumerate(months): \n",
    "    env = GEFCom2014SolarEnv(dataset=dataset, test_month=month, n_training_months=n_training_months)\n",
    "    next_input, training_data = env.reset()\n",
    "    model = LGBGEFCom2014Predictor(name=\"predictor\", quantiles=[0.5])\n",
    "\n",
    "    losses_j = []\n",
    "    for j in range(env.n_steps):\n",
    "        pbar.set_description(f\"Test month: {month}. Training months: {j+1}. \")\n",
    "\n",
    "        training_input = training_data.loc[:,(slice(None), env.input)]\n",
    "        training_target = training_data.loc[:,(slice(None), env.target)]\n",
    "        model.train(features=training_input, target=training_target, show_progress=False)\n",
    "        prediction = model.predict(features=next_input)\n",
    "        next_input, previous_target, training_data, done = env.step()\n",
    "\n",
    "        loss = obj.calculate(previous_target, prediction, mean=False)\n",
    "        losses_j.append(np.nanmean(loss, axis=(0,2)))\n",
    "\n",
    "        pbar.update(1)\n",
    "\n",
    "    losses_i.append(np.stack(losses_j, axis=-1))\n",
    "    \n",
    "losses = np.stack(losses_i, axis=-1)"
   ]
  },
  {
   "cell_type": "code",
   "execution_count": 18,
   "metadata": {},
   "outputs": [
    {
     "data": {
      "text/plain": [
       "<Axes: xlabel='ref_datetime,valid_datetime'>"
      ]
     },
     "execution_count": 18,
     "metadata": {},
     "output_type": "execute_result"
    },
    {
     "data": {
      "image/png": "[encoded data removed]",
      "text/plain": [
       "<Figure size 640x480 with 1 Axes>"
      ]
     },
     "metadata": {},
     "output_type": "display_data"
    }
   ],
   "source": [
    "dataset.data[\"data_gefcom2014_solar\"][\"Site2\"][\"Power\"].plot()"
   ]
  },
  {
   "cell_type": "code",
   "execution_count": 50,
   "metadata": {},
   "outputs": [],
   "source": [
    "import matplotlib.pyplot as plt"
   ]
  },
  {
   "cell_type": "code",
   "execution_count": 53,
   "metadata": {},
   "outputs": [
    {
     "data": {
      "text/plain": [
       "[<matplotlib.lines.Line2D at 0x14739b010>,\n",
       " <matplotlib.lines.Line2D at 0x147601750>,\n",
       " <matplotlib.lines.Line2D at 0x147623390>]"
      ]
     },
     "execution_count": 53,
     "metadata": {},
     "output_type": "execute_result"
    },
    {
     "data": {
      "image/png": "[encoded data removed]",
      "text/plain": [
       "<Figure size 640x480 with 1 Axes>"
      ]
     },
     "metadata": {},
     "output_type": "display_data"
    }
   ],
   "source": [
    "plt.plot(losses.mean(axis=2).T)"
   ]
  },
  {
   "cell_type": "code",
   "execution_count": 51,
   "metadata": {},
   "outputs": [
    {
     "data": {
      "text/plain": [
       "[<matplotlib.lines.Line2D at 0x14739a390>]"
      ]
     },
     "execution_count": 51,
     "metadata": {},
     "output_type": "execute_result"
    },
    {
     "data": {
      "image/png": "[encoded data removed]",
      "text/plain": [
       "<Figure size 640x480 with 1 Axes>"
      ]
     },
     "metadata": {},
     "output_type": "display_data"
    }
   ],
   "source": [
    "plt.plot(losses.mean(axis=0).mean(axis=1))"
   ]
  },
  {
   "cell_type": "code",
   "execution_count": 45,
   "metadata": {},
   "outputs": [
    {
     "ename": "TypeError",
     "evalue": "'list' object cannot be interpreted as an integer",
     "output_type": "error",
     "traceback": [
      "\u001b[0;31m---------------------------------------------------------------------------\u001b[0m",
      "\u001b[0;31mTypeError\u001b[0m                                 Traceback (most recent call last)",
      "Cell \u001b[0;32mIn[45], line 1\u001b[0m\n\u001b[0;32m----> 1\u001b[0m plt\u001b[38;5;241m.\u001b[39mplot(\u001b[43mlosses\u001b[49m\u001b[38;5;241;43m.\u001b[39;49m\u001b[43mmean\u001b[49m\u001b[43m(\u001b[49m\u001b[43maxis\u001b[49m\u001b[38;5;241;43m=\u001b[39;49m\u001b[43m[\u001b[49m\u001b[38;5;241;43m0\u001b[39;49m\u001b[43m,\u001b[49m\u001b[38;5;241;43m2\u001b[39;49m\u001b[43m]\u001b[49m\u001b[43m)\u001b[49m);\n",
      "File \u001b[0;32m~/Documents/Github/treewe/.venv_treewe/lib/python3.11/site-packages/numpy/core/_methods.py:106\u001b[0m, in \u001b[0;36m_mean\u001b[0;34m(a, axis, dtype, out, keepdims, where)\u001b[0m\n\u001b[1;32m    102\u001b[0m arr \u001b[38;5;241m=\u001b[39m asanyarray(a)\n\u001b[1;32m    104\u001b[0m is_float16_result \u001b[38;5;241m=\u001b[39m \u001b[38;5;28;01mFalse\u001b[39;00m\n\u001b[0;32m--> 106\u001b[0m rcount \u001b[38;5;241m=\u001b[39m \u001b[43m_count_reduce_items\u001b[49m\u001b[43m(\u001b[49m\u001b[43marr\u001b[49m\u001b[43m,\u001b[49m\u001b[43m \u001b[49m\u001b[43maxis\u001b[49m\u001b[43m,\u001b[49m\u001b[43m \u001b[49m\u001b[43mkeepdims\u001b[49m\u001b[38;5;241;43m=\u001b[39;49m\u001b[43mkeepdims\u001b[49m\u001b[43m,\u001b[49m\u001b[43m \u001b[49m\u001b[43mwhere\u001b[49m\u001b[38;5;241;43m=\u001b[39;49m\u001b[43mwhere\u001b[49m\u001b[43m)\u001b[49m\n\u001b[1;32m    107\u001b[0m \u001b[38;5;28;01mif\u001b[39;00m rcount \u001b[38;5;241m==\u001b[39m \u001b[38;5;241m0\u001b[39m \u001b[38;5;28;01mif\u001b[39;00m where \u001b[38;5;129;01mis\u001b[39;00m \u001b[38;5;28;01mTrue\u001b[39;00m \u001b[38;5;28;01melse\u001b[39;00m umr_any(rcount \u001b[38;5;241m==\u001b[39m \u001b[38;5;241m0\u001b[39m, axis\u001b[38;5;241m=\u001b[39m\u001b[38;5;28;01mNone\u001b[39;00m):\n\u001b[1;32m    108\u001b[0m     warnings\u001b[38;5;241m.\u001b[39mwarn(\u001b[38;5;124m\"\u001b[39m\u001b[38;5;124mMean of empty slice.\u001b[39m\u001b[38;5;124m\"\u001b[39m, \u001b[38;5;167;01mRuntimeWarning\u001b[39;00m, stacklevel\u001b[38;5;241m=\u001b[39m\u001b[38;5;241m2\u001b[39m)\n",
      "File \u001b[0;32m~/Documents/Github/treewe/.venv_treewe/lib/python3.11/site-packages/numpy/core/_methods.py:77\u001b[0m, in \u001b[0;36m_count_reduce_items\u001b[0;34m(arr, axis, keepdims, where)\u001b[0m\n\u001b[1;32m     75\u001b[0m     items \u001b[38;5;241m=\u001b[39m \u001b[38;5;241m1\u001b[39m\n\u001b[1;32m     76\u001b[0m     \u001b[38;5;28;01mfor\u001b[39;00m ax \u001b[38;5;129;01min\u001b[39;00m axis:\n\u001b[0;32m---> 77\u001b[0m         items \u001b[38;5;241m*\u001b[39m\u001b[38;5;241m=\u001b[39m arr\u001b[38;5;241m.\u001b[39mshape[mu\u001b[38;5;241m.\u001b[39mnormalize_axis_index(ax, arr\u001b[38;5;241m.\u001b[39mndim)]\n\u001b[1;32m     78\u001b[0m     items \u001b[38;5;241m=\u001b[39m nt\u001b[38;5;241m.\u001b[39mintp(items)\n\u001b[1;32m     79\u001b[0m \u001b[38;5;28;01melse\u001b[39;00m:\n\u001b[1;32m     80\u001b[0m     \u001b[38;5;66;03m# TODO: Optimize case when `where` is broadcast along a non-reduction\u001b[39;00m\n\u001b[1;32m     81\u001b[0m     \u001b[38;5;66;03m# axis and full sum is more excessive than needed.\u001b[39;00m\n\u001b[1;32m     82\u001b[0m \n\u001b[1;32m     83\u001b[0m     \u001b[38;5;66;03m# guarded to protect circular imports\u001b[39;00m\n",
      "\u001b[0;31mTypeError\u001b[0m: 'list' object cannot be interpreted as an integer"
     ]
    }
   ],
   "source": [
    "plt.plot(losses.mean(axis=[0,2]));"
   ]
  },
  {
   "cell_type": "code",
   "execution_count": 29,
   "metadata": {},
   "outputs": [
    {
     "data": {
      "image/png": "[encoded data removed]",
      "text/plain": [
       "<Figure size 640x480 with 1 Axes>"
      ]
     },
     "metadata": {},
     "output_type": "display_data"
    }
   ],
   "source": [
    "plt.plot(losses.mean(axis=2).T);"
   ]
  },
  {
   "cell_type": "code",
   "execution_count": 55,
   "metadata": {},
   "outputs": [
    {
     "data": {
      "text/plain": [
       "(3, 12, 12)"
      ]
     },
     "execution_count": 55,
     "metadata": {},
     "output_type": "execute_result"
    }
   ],
   "source": [
    "losses.shape"
   ]
  },
  {
   "cell_type": "code",
   "execution_count": null,
   "metadata": {},
   "outputs": [],
   "source": [
    "plt.plot(losses.mean(axis=0).T);"
   ]
  },
  {
   "cell_type": "code",
   "execution_count": 22,
   "metadata": {},
   "outputs": [
    {
     "ename": "NameError",
     "evalue": "name 'plt' is not defined",
     "output_type": "error",
     "traceback": [
      "\u001b[0;31m---------------------------------------------------------------------------\u001b[0m",
      "\u001b[0;31mNameError\u001b[0m                                 Traceback (most recent call last)",
      "Cell \u001b[0;32mIn[22], line 1\u001b[0m\n\u001b[0;32m----> 1\u001b[0m \u001b[43mplt\u001b[49m\u001b[38;5;241m.\u001b[39mplot(losses\u001b[38;5;241m.\u001b[39mmean(axis\u001b[38;5;241m=\u001b[39m\u001b[38;5;241m2\u001b[39m));\n",
      "\u001b[0;31mNameError\u001b[0m: name 'plt' is not defined"
     ]
    }
   ],
   "source": [
    "plt.plot(losses.mean(axis=2));"
   ]
  },
  {
   "cell_type": "code",
   "execution_count": null,
   "metadata": {},
   "outputs": [
    {
     "name": "stderr",
     "output_type": "stream",
     "text": [
      "Training predictor: 100%|██████████| 30/30 [00:03<00:00,  8.49it/s]\n"
     ]
    },
    {
     "name": "stdout",
     "output_type": "stream",
     "text": [
      "predictor PinballLoss for step 1: 0.05141221210652591\n"
     ]
    },
    {
     "name": "stderr",
     "output_type": "stream",
     "text": [
      "Training predictor: 100%|██████████| 30/30 [00:04<00:00,  7.38it/s]\n"
     ]
    },
    {
     "name": "stdout",
     "output_type": "stream",
     "text": [
      "predictor PinballLoss for step 2: 0.042753599167859604\n"
     ]
    },
    {
     "name": "stderr",
     "output_type": "stream",
     "text": [
      "Training predictor: 100%|██████████| 30/30 [00:04<00:00,  7.10it/s]\n"
     ]
    },
    {
     "name": "stdout",
     "output_type": "stream",
     "text": [
      "predictor PinballLoss for step 3: 0.040975470927086054\n"
     ]
    },
    {
     "name": "stderr",
     "output_type": "stream",
     "text": [
      "Training predictor: 100%|██████████| 30/30 [00:04<00:00,  7.13it/s]\n"
     ]
    },
    {
     "name": "stdout",
     "output_type": "stream",
     "text": [
      "predictor PinballLoss for step 4: 0.04038614904987022\n"
     ]
    },
    {
     "name": "stderr",
     "output_type": "stream",
     "text": [
      "Training predictor: 100%|██████████| 30/30 [00:03<00:00,  8.51it/s]\n"
     ]
    },
    {
     "name": "stdout",
     "output_type": "stream",
     "text": [
      "predictor PinballLoss for step 5: 0.040221574835093095\n"
     ]
    },
    {
     "name": "stderr",
     "output_type": "stream",
     "text": [
      "Training predictor: 100%|██████████| 30/30 [00:04<00:00,  6.70it/s]\n"
     ]
    },
    {
     "name": "stdout",
     "output_type": "stream",
     "text": [
      "predictor PinballLoss for step 6: 0.039898794760407634\n"
     ]
    },
    {
     "name": "stderr",
     "output_type": "stream",
     "text": [
      "Training predictor: 100%|██████████| 30/30 [00:04<00:00,  7.01it/s]\n"
     ]
    },
    {
     "name": "stdout",
     "output_type": "stream",
     "text": [
      "predictor PinballLoss for step 7: 0.0396999585750522\n"
     ]
    },
    {
     "name": "stderr",
     "output_type": "stream",
     "text": [
      "Training predictor: 100%|██████████| 30/30 [00:04<00:00,  6.93it/s]\n"
     ]
    },
    {
     "name": "stdout",
     "output_type": "stream",
     "text": [
      "predictor PinballLoss for step 8: 0.03941674330799964\n"
     ]
    },
    {
     "name": "stderr",
     "output_type": "stream",
     "text": [
      "Training predictor: 100%|██████████| 30/30 [00:04<00:00,  6.57it/s]\n"
     ]
    },
    {
     "name": "stdout",
     "output_type": "stream",
     "text": [
      "predictor PinballLoss for step 9: 0.0391680652205825\n"
     ]
    },
    {
     "name": "stderr",
     "output_type": "stream",
     "text": [
      "Training predictor: 100%|██████████| 30/30 [00:04<00:00,  7.43it/s]\n"
     ]
    },
    {
     "name": "stdout",
     "output_type": "stream",
     "text": [
      "predictor PinballLoss for step 10: 0.03857504369737824\n"
     ]
    },
    {
     "name": "stderr",
     "output_type": "stream",
     "text": [
      "Training predictor: 100%|██████████| 30/30 [00:04<00:00,  7.49it/s]\n"
     ]
    },
    {
     "name": "stdout",
     "output_type": "stream",
     "text": [
      "predictor PinballLoss for step 11: 0.03853656335197426\n"
     ]
    },
    {
     "name": "stderr",
     "output_type": "stream",
     "text": [
      "Training predictor: 100%|██████████| 30/30 [00:04<00:00,  6.82it/s]\n"
     ]
    },
    {
     "name": "stdout",
     "output_type": "stream",
     "text": [
      "predictor PinballLoss for step 12: 0.03817105887063379\n"
     ]
    },
    {
     "name": "stderr",
     "output_type": "stream",
     "text": [
      "Training predictor: 100%|██████████| 30/30 [00:04<00:00,  7.17it/s]\n"
     ]
    },
    {
     "name": "stdout",
     "output_type": "stream",
     "text": [
      "predictor PinballLoss for step 13: 0.03816496652494978\n"
     ]
    },
    {
     "name": "stderr",
     "output_type": "stream",
     "text": [
      "Training predictor: 100%|██████████| 30/30 [00:04<00:00,  6.50it/s]\n"
     ]
    },
    {
     "name": "stdout",
     "output_type": "stream",
     "text": [
      "predictor PinballLoss for step 14: 0.037881083976395905\n"
     ]
    },
    {
     "name": "stderr",
     "output_type": "stream",
     "text": [
      "Training predictor: 100%|██████████| 30/30 [00:04<00:00,  6.45it/s]\n"
     ]
    },
    {
     "name": "stdout",
     "output_type": "stream",
     "text": [
      "predictor PinballLoss for step 15: 0.03765601367199825\n"
     ]
    },
    {
     "name": "stderr",
     "output_type": "stream",
     "text": [
      "Training predictor: 100%|██████████| 30/30 [00:04<00:00,  6.28it/s]\n"
     ]
    },
    {
     "name": "stdout",
     "output_type": "stream",
     "text": [
      "predictor PinballLoss for step 16: 0.037688760029820245\n"
     ]
    },
    {
     "name": "stderr",
     "output_type": "stream",
     "text": [
      "Training predictor: 100%|██████████| 30/30 [00:04<00:00,  6.82it/s]\n"
     ]
    },
    {
     "name": "stdout",
     "output_type": "stream",
     "text": [
      "predictor PinballLoss for step 17: 0.037783022475934944\n"
     ]
    },
    {
     "name": "stderr",
     "output_type": "stream",
     "text": [
      "Training predictor: 100%|██████████| 30/30 [00:04<00:00,  6.23it/s]\n"
     ]
    },
    {
     "name": "stdout",
     "output_type": "stream",
     "text": [
      "predictor PinballLoss for step 18: 0.03789374082722228\n"
     ]
    },
    {
     "name": "stderr",
     "output_type": "stream",
     "text": [
      "Training predictor: 100%|██████████| 30/30 [00:04<00:00,  6.15it/s]\n"
     ]
    },
    {
     "name": "stdout",
     "output_type": "stream",
     "text": [
      "predictor PinballLoss for step 19: 0.037873775916350834\n"
     ]
    },
    {
     "name": "stderr",
     "output_type": "stream",
     "text": [
      "Training predictor: 100%|██████████| 30/30 [00:04<00:00,  6.85it/s]\n"
     ]
    },
    {
     "name": "stdout",
     "output_type": "stream",
     "text": [
      "predictor PinballLoss for step 20: 0.037777252182386145\n"
     ]
    },
    {
     "name": "stderr",
     "output_type": "stream",
     "text": [
      "Training predictor: 100%|██████████| 30/30 [00:05<00:00,  5.93it/s]\n"
     ]
    },
    {
     "name": "stdout",
     "output_type": "stream",
     "text": [
      "predictor PinballLoss for step 21: 0.03791941434656734\n"
     ]
    },
    {
     "name": "stderr",
     "output_type": "stream",
     "text": [
      "Training predictor: 100%|██████████| 30/30 [00:04<00:00,  6.85it/s]\n"
     ]
    },
    {
     "name": "stdout",
     "output_type": "stream",
     "text": [
      "predictor PinballLoss for step 22: 0.0378459166253438\n"
     ]
    },
    {
     "name": "stderr",
     "output_type": "stream",
     "text": [
      "Training predictor: 100%|██████████| 30/30 [00:04<00:00,  6.36it/s]\n"
     ]
    },
    {
     "name": "stdout",
     "output_type": "stream",
     "text": [
      "predictor PinballLoss for step 23: 0.03796297895861446\n"
     ]
    }
   ],
   "source": [
    "# Make this on loop and train every time. \n",
    "losses = {model.name: []}\n",
    "for i in range(env.n_steps):\n",
    "    training_input = training_data.loc[:,(slice(None), env.input)]\n",
    "    training_target = training_data.loc[:,(slice(None), env.target)]\n",
    "    model.train(features=training_input, target=training_target)\n",
    "    prediction = model.predict(features=next_input)\n",
    "    next_input, previous_target, training_data, done = env.step()\n",
    "\n",
    "    loss = obj.calculate(previous_target, prediction, mean=False)\n",
    "    losses[model.name].append(loss)\n",
    "\n",
    "    print(f\"{model.name} {obj.name} for step {i+1}: {np.nanmean(loss)}\")\n"
   ]
  },
  {
   "cell_type": "code",
   "execution_count": 288,
   "metadata": {},
   "outputs": [],
   "source": [
    "l = []\n",
    "for loss in losses[\"predictor\"]:\n",
    "    l.append(np.nanmean(loss, axis=(0,2)))\n",
    "#    l = np.append(l, np.nanmean(loss, axis=(0,2), keepdims=True))\n",
    "l = np.vstack(l)"
   ]
  },
  {
   "cell_type": "code",
   "execution_count": 294,
   "metadata": {},
   "outputs": [
    {
     "data": {
      "text/plain": [
       "(23, 10, 2)"
      ]
     },
     "execution_count": 294,
     "metadata": {},
     "output_type": "execute_result"
    }
   ],
   "source": [
    "np.stack([l, l], axis=-1).shape"
   ]
  },
  {
   "cell_type": "code",
   "execution_count": 289,
   "metadata": {},
   "outputs": [
    {
     "data": {
      "image/png": "[encoded data removed]",
      "text/plain": [
       "<Figure size 640x480 with 1 Axes>"
      ]
     },
     "metadata": {},
     "output_type": "display_data"
    }
   ],
   "source": [
    "import matplotlib.pyplot as plt\n",
    "plt.plot(l);"
   ]
  },
  {
   "cell_type": "code",
   "execution_count": null,
   "metadata": {},
   "outputs": [],
   "source": []
  }
 ],
 "metadata": {
  "kernelspec": {
   "display_name": ".venv_treewe",
   "language": "python",
   "name": "python3"
  },
  "language_info": {
   "codemirror_mode": {
    "name": "ipython",
    "version": 3
   },
   "file_extension": ".py",
   "mimetype": "text/x-python",
   "name": "python",
   "nbconvert_exporter": "python",
   "pygments_lexer": "ipython3",
   "version": "3.11.4"
  }
 },
 "nbformat": 4,
 "nbformat_minor": 2
}
