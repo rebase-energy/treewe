{
 "cells": [
  {
   "cell_type": "code",
   "execution_count": 338,
   "metadata": {},
   "outputs": [],
   "source": [
    "import numpy as np\n",
    "import pandas as pd\n",
    "from tqdm import tqdm\n",
    "\n",
    "import gymnasium as gym\n",
    "import enflow as ef\n",
    "import treewe as tr"
   ]
  },
  {
   "cell_type": "markdown",
   "metadata": {},
   "source": [
    "### Step 1) Define the energy system "
   ]
  },
  {
   "cell_type": "code",
   "execution_count": 339,
   "metadata": {},
   "outputs": [],
   "source": [
    "dataset = tr.load_dataset('gefcom2014-wind')"
   ]
  },
  {
   "cell_type": "code",
   "execution_count": 340,
   "metadata": {},
   "outputs": [
    {
     "name": "stdout",
     "output_type": "stream",
     "text": [
      "Portfolio (edm.Portfolio)\n",
      "├── Site1 (edm.WindFarm)\n",
      "├── Site10 (edm.WindFarm)\n",
      "├── Site2 (edm.WindFarm)\n",
      "├── Site3 (edm.WindFarm)\n",
      "├── Site4 (edm.WindFarm)\n",
      "├── Site5 (edm.WindFarm)\n",
      "├── Site6 (edm.WindFarm)\n",
      "├── Site7 (edm.WindFarm)\n",
      "├── Site8 (edm.WindFarm)\n",
      "└── Site9 (edm.WindFarm)\n"
     ]
    }
   ],
   "source": [
    "portfolio = dataset.collection\n",
    "portfolio.draw_tree(show_type=True)"
   ]
  },
  {
   "cell_type": "code",
   "execution_count": 341,
   "metadata": {},
   "outputs": [
    {
     "data": {
      "text/plain": [
       "['data_gefcom2014_wind', 'scores_gefcom2014_wind']"
      ]
     },
     "execution_count": 341,
     "metadata": {},
     "output_type": "execute_result"
    }
   ],
   "source": [
    "dataset.list_data()"
   ]
  },
  {
   "cell_type": "markdown",
   "metadata": {},
   "source": [
    "### Step 2) Define state, exogeneous and action spaces"
   ]
  },
  {
   "cell_type": "code",
   "execution_count": 342,
   "metadata": {},
   "outputs": [],
   "source": [
    "state_space = ef.DataFrameSpace({asset.name: {\n",
    "    'U10': gym.spaces.Box(low=-np.inf, high=np.inf, shape=(1,), dtype=np.float32),\n",
    "    'V10': gym.spaces.Box(low=-np.inf, high=np.inf, shape=(1,), dtype=np.float32),\n",
    "    'U100': gym.spaces.Box(low=-np.inf, high=np.inf, shape=(1,), dtype=np.float32),\n",
    "    'V100': gym.spaces.Box(low=-np.inf, high=np.inf, shape=(1,), dtype=np.float32),\n",
    "    'Power': gym.spaces.Box(low=0, high=1, shape=(1,), dtype=np.float32)\n",
    "} for asset in portfolio.assets})\n",
    "\n",
    "n_quantiles = 99\n",
    "\n",
    "action_space = ef.DataFrameSpace({asset.name: {\n",
    "    f\"Quantile_forecast_{i+1}\": gym.spaces.Box(low=0, high=1, shape=(1,)) for i in range(n_quantiles)\n",
    "} for asset in portfolio.assets})\n"
   ]
  },
  {
   "cell_type": "code",
   "execution_count": 343,
   "metadata": {},
   "outputs": [
    {
     "data": {
      "text/html": [
       "<div>\n",
       "<style scoped>\n",
       "    .dataframe tbody tr th:only-of-type {\n",
       "        vertical-align: middle;\n",
       "    }\n",
       "\n",
       "    .dataframe tbody tr th {\n",
       "        vertical-align: top;\n",
       "    }\n",
       "\n",
       "    .dataframe thead tr th {\n",
       "        text-align: left;\n",
       "    }\n",
       "</style>\n",
       "<table border=\"1\" class=\"dataframe\">\n",
       "  <thead>\n",
       "    <tr>\n",
       "      <th></th>\n",
       "      <th colspan=\"5\" halign=\"left\">Site1</th>\n",
       "      <th colspan=\"5\" halign=\"left\">Site10</th>\n",
       "      <th>...</th>\n",
       "      <th colspan=\"5\" halign=\"left\">Site8</th>\n",
       "      <th colspan=\"5\" halign=\"left\">Site9</th>\n",
       "    </tr>\n",
       "    <tr>\n",
       "      <th></th>\n",
       "      <th>Power</th>\n",
       "      <th>U10</th>\n",
       "      <th>U100</th>\n",
       "      <th>V10</th>\n",
       "      <th>V100</th>\n",
       "      <th>Power</th>\n",
       "      <th>U10</th>\n",
       "      <th>U100</th>\n",
       "      <th>V10</th>\n",
       "      <th>V100</th>\n",
       "      <th>...</th>\n",
       "      <th>Power</th>\n",
       "      <th>U10</th>\n",
       "      <th>U100</th>\n",
       "      <th>V10</th>\n",
       "      <th>V100</th>\n",
       "      <th>Power</th>\n",
       "      <th>U10</th>\n",
       "      <th>U100</th>\n",
       "      <th>V10</th>\n",
       "      <th>V100</th>\n",
       "    </tr>\n",
       "  </thead>\n",
       "  <tbody>\n",
       "    <tr>\n",
       "      <th>0</th>\n",
       "      <td>0.383089</td>\n",
       "      <td>-1.860671</td>\n",
       "      <td>0.254469</td>\n",
       "      <td>-0.193022</td>\n",
       "      <td>-0.290154</td>\n",
       "      <td>0.866953</td>\n",
       "      <td>-2.158075</td>\n",
       "      <td>1.153403</td>\n",
       "      <td>1.427405</td>\n",
       "      <td>2.449460</td>\n",
       "      <td>...</td>\n",
       "      <td>0.620598</td>\n",
       "      <td>-0.861717</td>\n",
       "      <td>0.041175</td>\n",
       "      <td>-0.931074</td>\n",
       "      <td>0.793876</td>\n",
       "      <td>0.425900</td>\n",
       "      <td>0.674183</td>\n",
       "      <td>0.700931</td>\n",
       "      <td>-0.257396</td>\n",
       "      <td>-1.206773</td>\n",
       "    </tr>\n",
       "    <tr>\n",
       "      <th>1</th>\n",
       "      <td>0.346346</td>\n",
       "      <td>1.010392</td>\n",
       "      <td>-0.087940</td>\n",
       "      <td>0.733632</td>\n",
       "      <td>1.791970</td>\n",
       "      <td>0.599869</td>\n",
       "      <td>-0.510734</td>\n",
       "      <td>-1.110711</td>\n",
       "      <td>1.130575</td>\n",
       "      <td>0.557217</td>\n",
       "      <td>...</td>\n",
       "      <td>0.877588</td>\n",
       "      <td>-0.650961</td>\n",
       "      <td>0.832693</td>\n",
       "      <td>1.197210</td>\n",
       "      <td>1.114502</td>\n",
       "      <td>0.281295</td>\n",
       "      <td>-0.481349</td>\n",
       "      <td>-0.677523</td>\n",
       "      <td>-0.106803</td>\n",
       "      <td>0.753115</td>\n",
       "    </tr>\n",
       "    <tr>\n",
       "      <th>2</th>\n",
       "      <td>0.881427</td>\n",
       "      <td>-0.366908</td>\n",
       "      <td>0.342045</td>\n",
       "      <td>-1.046759</td>\n",
       "      <td>1.280826</td>\n",
       "      <td>0.064029</td>\n",
       "      <td>2.501131</td>\n",
       "      <td>1.538831</td>\n",
       "      <td>-0.574330</td>\n",
       "      <td>-0.509561</td>\n",
       "      <td>...</td>\n",
       "      <td>0.880097</td>\n",
       "      <td>0.825711</td>\n",
       "      <td>0.267374</td>\n",
       "      <td>2.246004</td>\n",
       "      <td>0.730862</td>\n",
       "      <td>0.797354</td>\n",
       "      <td>0.275688</td>\n",
       "      <td>-1.600485</td>\n",
       "      <td>-0.407280</td>\n",
       "      <td>-0.449768</td>\n",
       "    </tr>\n",
       "    <tr>\n",
       "      <th>3</th>\n",
       "      <td>0.133070</td>\n",
       "      <td>0.068084</td>\n",
       "      <td>-0.032891</td>\n",
       "      <td>-1.210668</td>\n",
       "      <td>-0.539143</td>\n",
       "      <td>0.380786</td>\n",
       "      <td>0.294341</td>\n",
       "      <td>-0.918359</td>\n",
       "      <td>-0.622999</td>\n",
       "      <td>0.570892</td>\n",
       "      <td>...</td>\n",
       "      <td>0.998827</td>\n",
       "      <td>-0.042568</td>\n",
       "      <td>0.266281</td>\n",
       "      <td>0.192303</td>\n",
       "      <td>-0.169987</td>\n",
       "      <td>0.110853</td>\n",
       "      <td>-0.715208</td>\n",
       "      <td>-0.904895</td>\n",
       "      <td>-0.039267</td>\n",
       "      <td>0.847779</td>\n",
       "    </tr>\n",
       "    <tr>\n",
       "      <th>4</th>\n",
       "      <td>0.826930</td>\n",
       "      <td>1.925988</td>\n",
       "      <td>0.437919</td>\n",
       "      <td>1.711777</td>\n",
       "      <td>-0.049622</td>\n",
       "      <td>0.893661</td>\n",
       "      <td>-1.265492</td>\n",
       "      <td>-0.264256</td>\n",
       "      <td>0.351677</td>\n",
       "      <td>0.881875</td>\n",
       "      <td>...</td>\n",
       "      <td>0.066178</td>\n",
       "      <td>0.040481</td>\n",
       "      <td>-0.633039</td>\n",
       "      <td>-0.469893</td>\n",
       "      <td>-1.144282</td>\n",
       "      <td>0.307449</td>\n",
       "      <td>-0.414353</td>\n",
       "      <td>0.070163</td>\n",
       "      <td>1.314304</td>\n",
       "      <td>-1.353649</td>\n",
       "    </tr>\n",
       "  </tbody>\n",
       "</table>\n",
       "<p>5 rows × 50 columns</p>\n",
       "</div>"
      ],
      "text/plain": [
       "      Site1                                            Site10            \\\n",
       "      Power       U10      U100       V10      V100     Power       U10   \n",
       "0  0.383089 -1.860671  0.254469 -0.193022 -0.290154  0.866953 -2.158075   \n",
       "1  0.346346  1.010392 -0.087940  0.733632  1.791970  0.599869 -0.510734   \n",
       "2  0.881427 -0.366908  0.342045 -1.046759  1.280826  0.064029  2.501131   \n",
       "3  0.133070  0.068084 -0.032891 -1.210668 -0.539143  0.380786  0.294341   \n",
       "4  0.826930  1.925988  0.437919  1.711777 -0.049622  0.893661 -1.265492   \n",
       "\n",
       "                                 ...     Site8                                \\\n",
       "       U100       V10      V100  ...     Power       U10      U100       V10   \n",
       "0  1.153403  1.427405  2.449460  ...  0.620598 -0.861717  0.041175 -0.931074   \n",
       "1 -1.110711  1.130575  0.557217  ...  0.877588 -0.650961  0.832693  1.197210   \n",
       "2  1.538831 -0.574330 -0.509561  ...  0.880097  0.825711  0.267374  2.246004   \n",
       "3 -0.918359 -0.622999  0.570892  ...  0.998827 -0.042568  0.266281  0.192303   \n",
       "4 -0.264256  0.351677  0.881875  ...  0.066178  0.040481 -0.633039 -0.469893   \n",
       "\n",
       "                Site9                                          \n",
       "       V100     Power       U10      U100       V10      V100  \n",
       "0  0.793876  0.425900  0.674183  0.700931 -0.257396 -1.206773  \n",
       "1  1.114502  0.281295 -0.481349 -0.677523 -0.106803  0.753115  \n",
       "2  0.730862  0.797354  0.275688 -1.600485 -0.407280 -0.449768  \n",
       "3 -0.169987  0.110853 -0.715208 -0.904895 -0.039267  0.847779  \n",
       "4 -1.144282  0.307449 -0.414353  0.070163  1.314304 -1.353649  \n",
       "\n",
       "[5 rows x 50 columns]"
      ]
     },
     "execution_count": 343,
     "metadata": {},
     "output_type": "execute_result"
    }
   ],
   "source": [
    "state_space.sample(n_rows=5)"
   ]
  },
  {
   "cell_type": "code",
   "execution_count": 344,
   "metadata": {},
   "outputs": [
    {
     "data": {
      "text/html": [
       "<div>\n",
       "<style scoped>\n",
       "    .dataframe tbody tr th:only-of-type {\n",
       "        vertical-align: middle;\n",
       "    }\n",
       "\n",
       "    .dataframe tbody tr th {\n",
       "        vertical-align: top;\n",
       "    }\n",
       "\n",
       "    .dataframe thead tr th {\n",
       "        text-align: left;\n",
       "    }\n",
       "</style>\n",
       "<table border=\"1\" class=\"dataframe\">\n",
       "  <thead>\n",
       "    <tr>\n",
       "      <th></th>\n",
       "      <th colspan=\"10\" halign=\"left\">Site1</th>\n",
       "      <th>...</th>\n",
       "      <th colspan=\"10\" halign=\"left\">Site9</th>\n",
       "    </tr>\n",
       "    <tr>\n",
       "      <th></th>\n",
       "      <th>Quantile_forecast_1</th>\n",
       "      <th>Quantile_forecast_10</th>\n",
       "      <th>Quantile_forecast_11</th>\n",
       "      <th>Quantile_forecast_12</th>\n",
       "      <th>Quantile_forecast_13</th>\n",
       "      <th>Quantile_forecast_14</th>\n",
       "      <th>Quantile_forecast_15</th>\n",
       "      <th>Quantile_forecast_16</th>\n",
       "      <th>Quantile_forecast_17</th>\n",
       "      <th>Quantile_forecast_18</th>\n",
       "      <th>...</th>\n",
       "      <th>Quantile_forecast_90</th>\n",
       "      <th>Quantile_forecast_91</th>\n",
       "      <th>Quantile_forecast_92</th>\n",
       "      <th>Quantile_forecast_93</th>\n",
       "      <th>Quantile_forecast_94</th>\n",
       "      <th>Quantile_forecast_95</th>\n",
       "      <th>Quantile_forecast_96</th>\n",
       "      <th>Quantile_forecast_97</th>\n",
       "      <th>Quantile_forecast_98</th>\n",
       "      <th>Quantile_forecast_99</th>\n",
       "    </tr>\n",
       "  </thead>\n",
       "  <tbody>\n",
       "    <tr>\n",
       "      <th>0</th>\n",
       "      <td>0.091679</td>\n",
       "      <td>0.801759</td>\n",
       "      <td>0.443812</td>\n",
       "      <td>0.612667</td>\n",
       "      <td>0.477293</td>\n",
       "      <td>0.154923</td>\n",
       "      <td>0.999382</td>\n",
       "      <td>0.215847</td>\n",
       "      <td>0.685102</td>\n",
       "      <td>0.771936</td>\n",
       "      <td>...</td>\n",
       "      <td>0.181803</td>\n",
       "      <td>0.756722</td>\n",
       "      <td>0.809476</td>\n",
       "      <td>0.787910</td>\n",
       "      <td>0.028462</td>\n",
       "      <td>0.187857</td>\n",
       "      <td>0.477830</td>\n",
       "      <td>0.991554</td>\n",
       "      <td>0.088172</td>\n",
       "      <td>0.436683</td>\n",
       "    </tr>\n",
       "    <tr>\n",
       "      <th>1</th>\n",
       "      <td>0.519758</td>\n",
       "      <td>0.571765</td>\n",
       "      <td>0.121889</td>\n",
       "      <td>0.367075</td>\n",
       "      <td>0.660412</td>\n",
       "      <td>0.042366</td>\n",
       "      <td>0.162214</td>\n",
       "      <td>0.957048</td>\n",
       "      <td>0.347346</td>\n",
       "      <td>0.545733</td>\n",
       "      <td>...</td>\n",
       "      <td>0.429631</td>\n",
       "      <td>0.503821</td>\n",
       "      <td>0.082361</td>\n",
       "      <td>0.951802</td>\n",
       "      <td>0.331606</td>\n",
       "      <td>0.952995</td>\n",
       "      <td>0.395107</td>\n",
       "      <td>0.619315</td>\n",
       "      <td>0.700554</td>\n",
       "      <td>0.418856</td>\n",
       "    </tr>\n",
       "    <tr>\n",
       "      <th>2</th>\n",
       "      <td>0.537022</td>\n",
       "      <td>0.384573</td>\n",
       "      <td>0.873745</td>\n",
       "      <td>0.551569</td>\n",
       "      <td>0.501055</td>\n",
       "      <td>0.002324</td>\n",
       "      <td>0.448211</td>\n",
       "      <td>0.343534</td>\n",
       "      <td>0.882150</td>\n",
       "      <td>0.119904</td>\n",
       "      <td>...</td>\n",
       "      <td>0.004577</td>\n",
       "      <td>0.155635</td>\n",
       "      <td>0.426663</td>\n",
       "      <td>0.314528</td>\n",
       "      <td>0.360103</td>\n",
       "      <td>0.341251</td>\n",
       "      <td>0.099851</td>\n",
       "      <td>0.746440</td>\n",
       "      <td>0.405744</td>\n",
       "      <td>0.684326</td>\n",
       "    </tr>\n",
       "  </tbody>\n",
       "</table>\n",
       "<p>3 rows × 990 columns</p>\n",
       "</div>"
      ],
      "text/plain": [
       "                Site1                                            \\\n",
       "  Quantile_forecast_1 Quantile_forecast_10 Quantile_forecast_11   \n",
       "0            0.091679             0.801759             0.443812   \n",
       "1            0.519758             0.571765             0.121889   \n",
       "2            0.537022             0.384573             0.873745   \n",
       "\n",
       "                                                                  \\\n",
       "  Quantile_forecast_12 Quantile_forecast_13 Quantile_forecast_14   \n",
       "0             0.612667             0.477293             0.154923   \n",
       "1             0.367075             0.660412             0.042366   \n",
       "2             0.551569             0.501055             0.002324   \n",
       "\n",
       "                                                                  \\\n",
       "  Quantile_forecast_15 Quantile_forecast_16 Quantile_forecast_17   \n",
       "0             0.999382             0.215847             0.685102   \n",
       "1             0.162214             0.957048             0.347346   \n",
       "2             0.448211             0.343534             0.882150   \n",
       "\n",
       "                        ...                Site9                       \\\n",
       "  Quantile_forecast_18  ... Quantile_forecast_90 Quantile_forecast_91   \n",
       "0             0.771936  ...             0.181803             0.756722   \n",
       "1             0.545733  ...             0.429631             0.503821   \n",
       "2             0.119904  ...             0.004577             0.155635   \n",
       "\n",
       "                                                                  \\\n",
       "  Quantile_forecast_92 Quantile_forecast_93 Quantile_forecast_94   \n",
       "0             0.809476             0.787910             0.028462   \n",
       "1             0.082361             0.951802             0.331606   \n",
       "2             0.426663             0.314528             0.360103   \n",
       "\n",
       "                                                                  \\\n",
       "  Quantile_forecast_95 Quantile_forecast_96 Quantile_forecast_97   \n",
       "0             0.187857             0.477830             0.991554   \n",
       "1             0.952995             0.395107             0.619315   \n",
       "2             0.341251             0.099851             0.746440   \n",
       "\n",
       "                                             \n",
       "  Quantile_forecast_98 Quantile_forecast_99  \n",
       "0             0.088172             0.436683  \n",
       "1             0.700554             0.418856  \n",
       "2             0.405744             0.684326  \n",
       "\n",
       "[3 rows x 990 columns]"
      ]
     },
     "execution_count": 344,
     "metadata": {},
     "output_type": "execute_result"
    }
   ],
   "source": [
    "action_space.sample(n_rows=3)"
   ]
  },
  {
   "cell_type": "markdown",
   "metadata": {},
   "source": [
    "### Step 3) Create environment"
   ]
  },
  {
   "cell_type": "code",
   "execution_count": 345,
   "metadata": {},
   "outputs": [
    {
     "data": {
      "text/plain": [
       "Timestamp('2012-01-01 01:00:00')"
      ]
     },
     "execution_count": 345,
     "metadata": {},
     "output_type": "execute_result"
    }
   ],
   "source": [
    "\n",
    "dataset.data[\"data_gefcom2014_wind\"].index[0][1]"
   ]
  },
  {
   "cell_type": "code",
   "execution_count": 346,
   "metadata": {},
   "outputs": [],
   "source": [
    "class GEFCom2014WindEnv(gym.Env):\n",
    "    def __init__(self, dataset: ef.Dataset, test_month, n_training_months): \n",
    "        self.dataset = dataset\n",
    "        self.data = dataset.data[\"data_gefcom2014_wind\"]\n",
    "        self.scores = dataset.data[\"scores_gefcom2014_wind\"]\n",
    "        self.input = [\"U10\", \"V10\", \"U100\", \"V100\"]\n",
    "        self.target = [\"Power\"]\n",
    "        self.state_space = state_space\n",
    "        self.action_space = action_space\n",
    "        self.test_month = test_month\n",
    "        self.n_training_months = n_training_months\n",
    "        self.idx_counter = 0\n",
    "\n",
    "        self._generate_train_test()\n",
    "        self.n_steps = len(self.test)\n",
    "\n",
    "    def _generate_train_test(self):\n",
    "        self.train = []\n",
    "        self.test = []\n",
    "        test_start = pd.to_datetime(self.test_month + \"-01\") + pd.DateOffset(hours=1)\n",
    "        test_end = test_start + pd.DateOffset(months=1) - pd.DateOffset(hours=1)\n",
    "        train_end = test_start - pd.DateOffset(hours=1)\n",
    "        for n in range(1, self.n_training_months+1): \n",
    "            train_start = train_end - pd.DateOffset(months=n) + pd.DateOffset(hours=1)\n",
    "            if train_start < self.data.index[0][1]:\n",
    "                break\n",
    "            self.train.append([train_start, train_end])\n",
    "            self.test.append([test_start, test_end])\n",
    "\n",
    "    def reset(self, return_dataframe=False):\n",
    "        self.idx_counter = 0\n",
    "        training_data = self.data.loc[(self.data.index.get_level_values('valid_datetime') >= self.train[self.idx_counter][0]) &\n",
    "                                      (self.data.index.get_level_values('valid_datetime') <= self.train[self.idx_counter][1])]\n",
    "\n",
    "        first_input = self.data.loc[(self.data.index.get_level_values('valid_datetime') >= self.test[self.idx_counter][0]) &\n",
    "                                    (self.data.index.get_level_values('valid_datetime') <= self.test[self.idx_counter][1]),\n",
    "                                     pd.IndexSlice[:, self.input]]\n",
    "\n",
    "        return first_input, training_data\n",
    "\n",
    "    def step(self, action=None):\n",
    "        self.idx_counter += 1\n",
    "\n",
    "        if self.idx_counter < self.n_steps:\n",
    "            next_input = self.data.loc[(self.data.index.get_level_values('valid_datetime') >= self.test[self.idx_counter][0]) &\n",
    "                                    (self.data.index.get_level_values('valid_datetime') <= self.test[self.idx_counter][1]),\n",
    "                                        pd.IndexSlice[:, self.input]] \n",
    "            \n",
    "            previous_target = self.data.loc[(self.data.index.get_level_values('valid_datetime') >= self.test[self.idx_counter-1][0]) &\n",
    "                                        (self.data.index.get_level_values('valid_datetime') <= self.test[self.idx_counter-1][1]),\n",
    "                                            pd.IndexSlice[:, self.target]]\n",
    "            \n",
    "            training_data = self.data.loc[(self.data.index.get_level_values('valid_datetime') >= self.train[self.idx_counter][0]) &\n",
    "                                        (self.data.index.get_level_values('valid_datetime') <= self.train[self.idx_counter][1])]\n",
    "            \n",
    "            done = False\n",
    "        \n",
    "        elif self.idx_counter == self.n_steps:\n",
    "            previous_target = self.data.loc[(self.data.index.get_level_values('valid_datetime') >= self.test[self.idx_counter-1][0]) &\n",
    "                                        (self.data.index.get_level_values('valid_datetime') <= self.test[self.idx_counter-1][1]),\n",
    "                                            pd.IndexSlice[:, self.target]]\n",
    "            \n",
    "            training_data = None\n",
    "            next_input = None\n",
    "            done = True\n",
    "        \n",
    "        return next_input, previous_target, training_data, done\n",
    "        \n",
    "    def plot_results(self, losses, drop_tasks=None, n_top_teams=None, xlim=None):\n",
    "        df_scores = self.scores\n",
    "        df_scores = df_scores.assign(**losses)\n",
    "        df_scores = df_scores.drop(index=drop_tasks)\n",
    "        df_scores.loc[\"Overall\"] = df_scores.mean()\n",
    "        teams = list(df_scores.drop(columns=losses.keys()).loc[\"Overall\",:].sort_values().iloc[:n_top_teams].index.values)\n",
    "        teams.extend(losses.keys())\n",
    "        ax = df_scores.loc[::-1,teams].plot.barh(title=\"Pinball loss GEFCom20214\")\n",
    "        ax.legend(loc='center left', bbox_to_anchor=(1, 0.5))\n",
    "        if xlim: ax.set_xlim(0, xlim)\n",
    "\n",
    "        return ax\n",
    "\n",
    "    def plot_forecasts(self, training_target, df_predictions, site=\"Site1\"): \n",
    "        import pandas as pd\n",
    "        import plotly.graph_objects as go\n",
    "        df = df_predictions.droplevel(0).loc[:,\"Site1\"]\n",
    "        df_target = training_target.loc[df.index[0]:df.index[-1],:].droplevel(0).loc[:,\"Site1\"]\n",
    "\n",
    "        # Sort quantiles to ensure outer quantiles are filled first\n",
    "        quantile_columns = [col for col in df.columns if col.startswith('quantile')]\n",
    "        quantile_columns.sort(key=lambda x: float(x.split('_')[1]))\n",
    "\n",
    "        # Create the figure\n",
    "        fig = go.Figure()\n",
    "\n",
    "        # Loop over the quantiles and add shaded areas\n",
    "        # Start from the outermost quantiles and move inward\n",
    "        for i in range(len(quantile_columns) // 2):\n",
    "            upper_quantile = quantile_columns[-(i+1)]\n",
    "            lower_quantile = quantile_columns[i]\n",
    "            \n",
    "            # Add the upper quantile line (invisible)\n",
    "            fig.add_trace(go.Scatter(\n",
    "                x=df.index,\n",
    "                y=df[upper_quantile],\n",
    "                mode='lines',\n",
    "                line=dict(color='rgb(0, 0, 255)', width=0),  # No line for the upper bound\n",
    "                fill=None,\n",
    "                showlegend=False,\n",
    "                hoverinfo='skip',  # This disables the hover tooltip\n",
    "                name=f'{upper_quantile}'\n",
    "            ))\n",
    "            \n",
    "            # Add the lower quantile line and fill the area between the two traces\n",
    "            fig.add_trace(go.Scatter(\n",
    "                x=df.index,\n",
    "                y=df[lower_quantile],\n",
    "                mode='lines',\n",
    "                line=dict(width=0),  # No line for the lower bound\n",
    "                fill='tonexty',  # Fill between this trace and the previous one\n",
    "                fillcolor=f'rgba(0, 0, 255, {0.1 + i * 0.1})',  # Increasing opacity for each quantile band\n",
    "                showlegend=False,\n",
    "                hoverinfo='skip',  # This disables the hover tooltip\n",
    "                name=f'{lower_quantile}'\n",
    "            ))\n",
    "\n",
    "        fig.add_trace(go.Scatter(\n",
    "            x=df.index,\n",
    "            y=df[\"quantile_50\"],\n",
    "            mode='lines',\n",
    "            line=dict(color='blue', width=1),  # Central forecast line\n",
    "            showlegend=False,\n",
    "            name='Median'\n",
    "        ))\n",
    "\n",
    "        fig.add_trace(go.Scatter(\n",
    "            x=df_target.index,\n",
    "            y=df_target[\"Power\"],\n",
    "            mode='lines',\n",
    "            line=dict(color='rgba(200, 0, 0, 0.5)', width=2),  # Central forecast line\n",
    "            showlegend=False,\n",
    "            name='Power'\n",
    "        ))\n",
    "\n",
    "        # Customize layout\n",
    "        fig.update_layout(\n",
    "            title='GEFCom2014 Wind Power Forecast',\n",
    "            xaxis_title='Time',\n",
    "            yaxis_title='Value',\n",
    "            hovermode=\"x\"\n",
    "        )\n",
    "\n",
    "        # Add range slider\n",
    "        fig.update_layout(\n",
    "            xaxis=dict(\n",
    "                rangeslider=dict(\n",
    "                    visible=True\n",
    "                ),\n",
    "                type=\"date\"\n",
    "            )\n",
    "        )\n",
    "\n",
    "        # Show the plot\n",
    "        fig.show()\n"
   ]
  },
  {
   "cell_type": "markdown",
   "metadata": {},
   "source": [
    "### Step 4) Define the objective\n"
   ]
  },
  {
   "cell_type": "code",
   "execution_count": 347,
   "metadata": {},
   "outputs": [],
   "source": [
    "from enflow.problems.objective import PinballLoss\n",
    "\n",
    "obj = PinballLoss(quantiles=[0.1, 0.5, 0.9])"
   ]
  },
  {
   "cell_type": "markdown",
   "metadata": {},
   "source": [
    "### Step 5) Create the model\n"
   ]
  },
  {
   "cell_type": "code",
   "execution_count": 348,
   "metadata": {},
   "outputs": [],
   "source": [
    "import lightgbm as lgb\n",
    "import pandas as pd\n",
    "from contextlib import nullcontext\n",
    "\n",
    "class LGBGEFCom2014Predictor(ef.Predictor):\n",
    "    def __init__(self, name=None, quantiles=None):\n",
    "        \"\"\"\n",
    "        Initialize the Predictor class.\n",
    "        \n",
    "        Args:\n",
    "            quantiles (list): List of quantiles for which to create separate models.\n",
    "                              Example: [0.1, 0.5, 0.9]\n",
    "        \"\"\"\n",
    "        self.name = name\n",
    "        self.models = {}  # Dictionary to hold models for each site and quantile\n",
    "        self.quantiles = quantiles\n",
    "        \n",
    "    def train(self, features: pd.DataFrame, target: pd.DataFrame, show_progress=True, **kwargs):\n",
    "        \"\"\"\n",
    "        Train separate LightGBM models for each site and quantile.\n",
    "        \n",
    "        Args:\n",
    "            features (pd.DataFrame): Multi-indexed dataframe where the top-level index corresponds to sites.\n",
    "            target (pd.DataFrame): The target dataframe (y), also multi-indexed by site.\n",
    "            kwargs: Additional parameters to pass to the LightGBMRegressor model.\n",
    "        \"\"\"\n",
    "        # Get the list of unique sites from the multi-index (top level)\n",
    "        sites = features.columns.get_level_values(0).unique()\n",
    "        feature_names = features.columns.get_level_values(1).unique()\n",
    "\n",
    "        pbar = tqdm(total=len(sites)*len(self.quantiles), mininterval=0, desc=f\"Training {self.name}\") if show_progress else nullcontext()\n",
    "\n",
    "        with pbar as progress: \n",
    "            # Loop over each site\n",
    "            for site in sites:\n",
    "                # Extract the features and target for the current site\n",
    "                site_features = features.xs(site, axis=1, level=0)\n",
    "                site_target = target.xs(site, axis=1, level=0)\n",
    "\n",
    "                # Loop over each quantile\n",
    "                for quantile in self.quantiles:\n",
    "                    # Initialize a LightGBM model for this quantile\n",
    "                    params = {'objective': 'quantile', 'alpha': quantile, \"verbose\": -1}\n",
    "                    params.update(kwargs)  # Add any additional LightGBM parameters\n",
    "                    \n",
    "                    model = lgb.LGBMRegressor(**params)\n",
    "                    \n",
    "                    # Train the model on the site's data\n",
    "                    model.fit(site_features, site_target)\n",
    "                    \n",
    "                    # Store the trained model with a key (site, quantile)\n",
    "                    self.models[(site, quantile)] = model\n",
    "                    \n",
    "                    if show_progress: \n",
    "                        progress.update(1)\n",
    "\n",
    "    def predict(self, features: pd.DataFrame):\n",
    "        \"\"\"\n",
    "        Make predictions for a specific site and quantile using the trained model.\n",
    "        \n",
    "        Args:\n",
    "            features (pd.DataFrame): The feature dataframe (X), multi-indexed by site.\n",
    "            site (str): The site for which to make predictions.\n",
    "            quantile (float): The quantile for which to make predictions.\n",
    "        \n",
    "        Returns:\n",
    "            np.array: Predictions from the model.\n",
    "        \"\"\"\n",
    "\n",
    "        # Create a nested dictionary to store predictions\n",
    "        predictions = {}\n",
    "\n",
    "        # Extract the features for the specific site\n",
    "        sites = features.columns.get_level_values(0).unique()\n",
    "\n",
    "        # Loop over each site and quantile\n",
    "        for site in sites:\n",
    "            # Extract the features for the current site\n",
    "            site_features = features.xs(site, axis=1, level=0)\n",
    "\n",
    "            # Initialize an inner dictionary for each site\n",
    "\n",
    "            for quantile in self.quantiles:\n",
    "                # Check if the model for the given site and quantile exists\n",
    "                if (site, quantile) not in self.models:\n",
    "                    raise ValueError(f\"No trained model for site '{site}' and quantile '{quantile}'.\")\n",
    "\n",
    "                # Make predictions using the stored model\n",
    "                model = self.models[(site, quantile)]\n",
    "                site_predictions = model.predict(site_features)\n",
    "\n",
    "                # Store the predictions under the quantile for the current site\n",
    "                predictions[(site, f\"quantile_{round(100*quantile)}\")] = site_predictions\n",
    "\n",
    "        # Convert the nested dictionary to a DataFrame with multi-index columns\n",
    "        predictions = pd.DataFrame.from_dict(predictions)\n",
    "        predictions.index = features.index\n",
    "        \n",
    "        return predictions\n"
   ]
  },
  {
   "cell_type": "markdown",
   "metadata": {},
   "source": [
    "### Step 6) Run the sequential decision loop and evaluate performance"
   ]
  },
  {
   "cell_type": "code",
   "execution_count": 349,
   "metadata": {},
   "outputs": [
    {
     "ename": "AttributeError",
     "evalue": "'NoneType' object has no attribute 'head'",
     "output_type": "error",
     "traceback": [
      "\u001b[0;31m---------------------------------------------------------------------------\u001b[0m",
      "\u001b[0;31mAttributeError\u001b[0m                            Traceback (most recent call last)",
      "Cell \u001b[0;32mIn[349], line 1\u001b[0m\n\u001b[0;32m----> 1\u001b[0m \u001b[43mtraining_data\u001b[49m\u001b[38;5;241;43m.\u001b[39;49m\u001b[43mhead\u001b[49m(\u001b[38;5;241m3\u001b[39m)\n",
      "\u001b[0;31mAttributeError\u001b[0m: 'NoneType' object has no attribute 'head'"
     ]
    }
   ],
   "source": [
    "training_data.head(3)"
   ]
  },
  {
   "cell_type": "code",
   "execution_count": 317,
   "metadata": {},
   "outputs": [
    {
     "data": {
      "text/html": [
       "<div>\n",
       "<style scoped>\n",
       "    .dataframe tbody tr th:only-of-type {\n",
       "        vertical-align: middle;\n",
       "    }\n",
       "\n",
       "    .dataframe tbody tr th {\n",
       "        vertical-align: top;\n",
       "    }\n",
       "\n",
       "    .dataframe thead tr th {\n",
       "        text-align: left;\n",
       "    }\n",
       "\n",
       "    .dataframe thead tr:last-of-type th {\n",
       "        text-align: right;\n",
       "    }\n",
       "</style>\n",
       "<table border=\"1\" class=\"dataframe\">\n",
       "  <thead>\n",
       "    <tr>\n",
       "      <th></th>\n",
       "      <th></th>\n",
       "      <th colspan=\"5\" halign=\"left\">Site1</th>\n",
       "      <th colspan=\"5\" halign=\"left\">Site2</th>\n",
       "      <th>...</th>\n",
       "      <th colspan=\"5\" halign=\"left\">Site9</th>\n",
       "      <th colspan=\"5\" halign=\"left\">Site10</th>\n",
       "    </tr>\n",
       "    <tr>\n",
       "      <th></th>\n",
       "      <th></th>\n",
       "      <th>Power</th>\n",
       "      <th>U10</th>\n",
       "      <th>U100</th>\n",
       "      <th>V10</th>\n",
       "      <th>V100</th>\n",
       "      <th>Power</th>\n",
       "      <th>U10</th>\n",
       "      <th>U100</th>\n",
       "      <th>V10</th>\n",
       "      <th>V100</th>\n",
       "      <th>...</th>\n",
       "      <th>Power</th>\n",
       "      <th>U10</th>\n",
       "      <th>U100</th>\n",
       "      <th>V10</th>\n",
       "      <th>V100</th>\n",
       "      <th>Power</th>\n",
       "      <th>U10</th>\n",
       "      <th>U100</th>\n",
       "      <th>V10</th>\n",
       "      <th>V100</th>\n",
       "    </tr>\n",
       "    <tr>\n",
       "      <th>ref_datetime</th>\n",
       "      <th>valid_datetime</th>\n",
       "      <th></th>\n",
       "      <th></th>\n",
       "      <th></th>\n",
       "      <th></th>\n",
       "      <th></th>\n",
       "      <th></th>\n",
       "      <th></th>\n",
       "      <th></th>\n",
       "      <th></th>\n",
       "      <th></th>\n",
       "      <th></th>\n",
       "      <th></th>\n",
       "      <th></th>\n",
       "      <th></th>\n",
       "      <th></th>\n",
       "      <th></th>\n",
       "      <th></th>\n",
       "      <th></th>\n",
       "      <th></th>\n",
       "      <th></th>\n",
       "      <th></th>\n",
       "    </tr>\n",
       "  </thead>\n",
       "  <tbody>\n",
       "    <tr>\n",
       "      <th rowspan=\"3\" valign=\"top\">2012-12-01 01:00:00</th>\n",
       "      <th>2012-12-01 01:00:00</th>\n",
       "      <td>0.469129</td>\n",
       "      <td>4.535272</td>\n",
       "      <td>6.153654</td>\n",
       "      <td>-0.530983</td>\n",
       "      <td>-0.795114</td>\n",
       "      <td>0.180398</td>\n",
       "      <td>3.222741</td>\n",
       "      <td>4.081398</td>\n",
       "      <td>1.415866</td>\n",
       "      <td>1.746907</td>\n",
       "      <td>...</td>\n",
       "      <td>0.331955</td>\n",
       "      <td>4.494140</td>\n",
       "      <td>6.149758</td>\n",
       "      <td>-0.201852</td>\n",
       "      <td>-0.388848</td>\n",
       "      <td>0.031119</td>\n",
       "      <td>2.926291</td>\n",
       "      <td>3.572585</td>\n",
       "      <td>1.274872</td>\n",
       "      <td>1.719714</td>\n",
       "    </tr>\n",
       "    <tr>\n",
       "      <th>2012-12-01 02:00:00</th>\n",
       "      <td>0.434452</td>\n",
       "      <td>5.109273</td>\n",
       "      <td>6.976518</td>\n",
       "      <td>-0.810788</td>\n",
       "      <td>-1.220416</td>\n",
       "      <td>0.220262</td>\n",
       "      <td>3.652593</td>\n",
       "      <td>4.610660</td>\n",
       "      <td>1.186260</td>\n",
       "      <td>1.460291</td>\n",
       "      <td>...</td>\n",
       "      <td>0.306241</td>\n",
       "      <td>5.073699</td>\n",
       "      <td>6.972623</td>\n",
       "      <td>-0.654517</td>\n",
       "      <td>-1.028976</td>\n",
       "      <td>0.029213</td>\n",
       "      <td>4.307747</td>\n",
       "      <td>5.330789</td>\n",
       "      <td>1.114235</td>\n",
       "      <td>1.610397</td>\n",
       "    </tr>\n",
       "    <tr>\n",
       "      <th>2012-12-01 03:00:00</th>\n",
       "      <td>0.542524</td>\n",
       "      <td>5.195243</td>\n",
       "      <td>7.111877</td>\n",
       "      <td>-0.616104</td>\n",
       "      <td>-0.941958</td>\n",
       "      <td>0.304374</td>\n",
       "      <td>4.292554</td>\n",
       "      <td>5.481242</td>\n",
       "      <td>2.377941</td>\n",
       "      <td>2.973321</td>\n",
       "      <td>...</td>\n",
       "      <td>0.374725</td>\n",
       "      <td>5.316417</td>\n",
       "      <td>7.326114</td>\n",
       "      <td>-0.526182</td>\n",
       "      <td>-0.870167</td>\n",
       "      <td>0.065861</td>\n",
       "      <td>4.310341</td>\n",
       "      <td>5.378505</td>\n",
       "      <td>1.087608</td>\n",
       "      <td>1.629432</td>\n",
       "    </tr>\n",
       "  </tbody>\n",
       "</table>\n",
       "<p>3 rows × 50 columns</p>\n",
       "</div>"
      ],
      "text/plain": [
       "                                            Site1                      \\\n",
       "                                            Power       U10      U100   \n",
       "ref_datetime        valid_datetime                                      \n",
       "2012-12-01 01:00:00 2012-12-01 01:00:00  0.469129  4.535272  6.153654   \n",
       "                    2012-12-01 02:00:00  0.434452  5.109273  6.976518   \n",
       "                    2012-12-01 03:00:00  0.542524  5.195243  7.111877   \n",
       "\n",
       "                                                                Site2  \\\n",
       "                                              V10      V100     Power   \n",
       "ref_datetime        valid_datetime                                      \n",
       "2012-12-01 01:00:00 2012-12-01 01:00:00 -0.530983 -0.795114  0.180398   \n",
       "                    2012-12-01 02:00:00 -0.810788 -1.220416  0.220262   \n",
       "                    2012-12-01 03:00:00 -0.616104 -0.941958  0.304374   \n",
       "\n",
       "                                                                       \\\n",
       "                                              U10      U100       V10   \n",
       "ref_datetime        valid_datetime                                      \n",
       "2012-12-01 01:00:00 2012-12-01 01:00:00  3.222741  4.081398  1.415866   \n",
       "                    2012-12-01 02:00:00  3.652593  4.610660  1.186260   \n",
       "                    2012-12-01 03:00:00  4.292554  5.481242  2.377941   \n",
       "\n",
       "                                                   ...     Site9            \\\n",
       "                                             V100  ...     Power       U10   \n",
       "ref_datetime        valid_datetime                 ...                       \n",
       "2012-12-01 01:00:00 2012-12-01 01:00:00  1.746907  ...  0.331955  4.494140   \n",
       "                    2012-12-01 02:00:00  1.460291  ...  0.306241  5.073699   \n",
       "                    2012-12-01 03:00:00  2.973321  ...  0.374725  5.316417   \n",
       "\n",
       "                                                                       \\\n",
       "                                             U100       V10      V100   \n",
       "ref_datetime        valid_datetime                                      \n",
       "2012-12-01 01:00:00 2012-12-01 01:00:00  6.149758 -0.201852 -0.388848   \n",
       "                    2012-12-01 02:00:00  6.972623 -0.654517 -1.028976   \n",
       "                    2012-12-01 03:00:00  7.326114 -0.526182 -0.870167   \n",
       "\n",
       "                                           Site10                      \\\n",
       "                                            Power       U10      U100   \n",
       "ref_datetime        valid_datetime                                      \n",
       "2012-12-01 01:00:00 2012-12-01 01:00:00  0.031119  2.926291  3.572585   \n",
       "                    2012-12-01 02:00:00  0.029213  4.307747  5.330789   \n",
       "                    2012-12-01 03:00:00  0.065861  4.310341  5.378505   \n",
       "\n",
       "                                                             \n",
       "                                              V10      V100  \n",
       "ref_datetime        valid_datetime                           \n",
       "2012-12-01 01:00:00 2012-12-01 01:00:00  1.274872  1.719714  \n",
       "                    2012-12-01 02:00:00  1.114235  1.610397  \n",
       "                    2012-12-01 03:00:00  1.087608  1.629432  \n",
       "\n",
       "[3 rows x 50 columns]"
      ]
     },
     "execution_count": 317,
     "metadata": {},
     "output_type": "execute_result"
    }
   ],
   "source": [
    "training_data.head(3)"
   ]
  },
  {
   "cell_type": "code",
   "execution_count": 423,
   "metadata": {},
   "outputs": [
    {
     "name": "stderr",
     "output_type": "stream",
     "text": [
      "Test month: 2013-12. Training months: 12.: 100%|██████████| 144/144 [04:09<00:00,  1.85s/it]"
     ]
    }
   ],
   "source": [
    "n_test_months = 12\n",
    "n_training_months = 12\n",
    "\n",
    "losses_i = []\n",
    "obj = PinballLoss(quantiles=[0.5])\n",
    "if \"pbar\" in globals(): pbar.close();\n",
    "pbar = tqdm(total=n_test_months*n_training_months, mininterval=0, leave=False)\n",
    "for i in range(1,n_test_months+1): \n",
    "    env = GEFCom2014WindEnv(dataset=dataset, test_month=f\"2013-{i:02}\", n_training_months=n_training_months)\n",
    "    next_input, training_data = env.reset()\n",
    "    model = LGBGEFCom2014Predictor(name=\"predictor\", quantiles=[0.5])\n",
    "\n",
    "    losses_j = []\n",
    "    for j in range(env.n_steps):\n",
    "        pbar.set_description(f\"Test month: 2013-{i:02}. Training months: {j+1}.\")\n",
    "\n",
    "        training_input = training_data.loc[:,(slice(None), env.input)]\n",
    "        training_target = training_data.loc[:,(slice(None), env.target)]\n",
    "        model.train(features=training_input, target=training_target, show_progress=False)\n",
    "        prediction = model.predict(features=next_input)\n",
    "        next_input, previous_target, training_data, done = env.step()\n",
    "\n",
    "        loss = obj.calculate(previous_target, prediction, mean=False)\n",
    "        losses_j.append(np.nanmean(loss, axis=(0,2)))\n",
    "\n",
    "        pbar.update(1)\n",
    "\n",
    "    losses_i.append(np.stack(losses_j, axis=-1))\n",
    "    \n",
    "losses = np.stack(losses_i, axis=-1)"
   ]
  },
  {
   "cell_type": "code",
   "execution_count": 337,
   "metadata": {},
   "outputs": [
    {
     "data": {
      "image/png": "[encoded data removed]",
      "text/plain": [
       "<Figure size 640x480 with 1 Axes>"
      ]
     },
     "metadata": {},
     "output_type": "display_data"
    }
   ],
   "source": [
    "plt.plot(losses[:,:,10].T);"
   ]
  },
  {
   "cell_type": "code",
   "execution_count": 327,
   "metadata": {},
   "outputs": [
    {
     "data": {
      "image/png": "[encoded data removed]",
      "text/plain": [
       "<Figure size 640x480 with 1 Axes>"
      ]
     },
     "metadata": {},
     "output_type": "display_data"
    }
   ],
   "source": [
    "plt.plot(losses.mean(axis=0));"
   ]
  },
  {
   "cell_type": "code",
   "execution_count": 307,
   "metadata": {},
   "outputs": [
    {
     "data": {
      "image/png": "[encoded data removed]",
      "text/plain": [
       "<Figure size 640x480 with 1 Axes>"
      ]
     },
     "metadata": {},
     "output_type": "display_data"
    }
   ],
   "source": [
    "plt.plot(losses.mean(axis=2).T);"
   ]
  },
  {
   "cell_type": "code",
   "execution_count": null,
   "metadata": {},
   "outputs": [
    {
     "name": "stderr",
     "output_type": "stream",
     "text": [
      "Training predictor: 100%|██████████| 30/30 [00:03<00:00,  8.49it/s]\n"
     ]
    },
    {
     "name": "stdout",
     "output_type": "stream",
     "text": [
      "predictor PinballLoss for step 1: 0.05141221210652591\n"
     ]
    },
    {
     "name": "stderr",
     "output_type": "stream",
     "text": [
      "Training predictor: 100%|██████████| 30/30 [00:04<00:00,  7.38it/s]\n"
     ]
    },
    {
     "name": "stdout",
     "output_type": "stream",
     "text": [
      "predictor PinballLoss for step 2: 0.042753599167859604\n"
     ]
    },
    {
     "name": "stderr",
     "output_type": "stream",
     "text": [
      "Training predictor: 100%|██████████| 30/30 [00:04<00:00,  7.10it/s]\n"
     ]
    },
    {
     "name": "stdout",
     "output_type": "stream",
     "text": [
      "predictor PinballLoss for step 3: 0.040975470927086054\n"
     ]
    },
    {
     "name": "stderr",
     "output_type": "stream",
     "text": [
      "Training predictor: 100%|██████████| 30/30 [00:04<00:00,  7.13it/s]\n"
     ]
    },
    {
     "name": "stdout",
     "output_type": "stream",
     "text": [
      "predictor PinballLoss for step 4: 0.04038614904987022\n"
     ]
    },
    {
     "name": "stderr",
     "output_type": "stream",
     "text": [
      "Training predictor: 100%|██████████| 30/30 [00:03<00:00,  8.51it/s]\n"
     ]
    },
    {
     "name": "stdout",
     "output_type": "stream",
     "text": [
      "predictor PinballLoss for step 5: 0.040221574835093095\n"
     ]
    },
    {
     "name": "stderr",
     "output_type": "stream",
     "text": [
      "Training predictor: 100%|██████████| 30/30 [00:04<00:00,  6.70it/s]\n"
     ]
    },
    {
     "name": "stdout",
     "output_type": "stream",
     "text": [
      "predictor PinballLoss for step 6: 0.039898794760407634\n"
     ]
    },
    {
     "name": "stderr",
     "output_type": "stream",
     "text": [
      "Training predictor: 100%|██████████| 30/30 [00:04<00:00,  7.01it/s]\n"
     ]
    },
    {
     "name": "stdout",
     "output_type": "stream",
     "text": [
      "predictor PinballLoss for step 7: 0.0396999585750522\n"
     ]
    },
    {
     "name": "stderr",
     "output_type": "stream",
     "text": [
      "Training predictor: 100%|██████████| 30/30 [00:04<00:00,  6.93it/s]\n"
     ]
    },
    {
     "name": "stdout",
     "output_type": "stream",
     "text": [
      "predictor PinballLoss for step 8: 0.03941674330799964\n"
     ]
    },
    {
     "name": "stderr",
     "output_type": "stream",
     "text": [
      "Training predictor: 100%|██████████| 30/30 [00:04<00:00,  6.57it/s]\n"
     ]
    },
    {
     "name": "stdout",
     "output_type": "stream",
     "text": [
      "predictor PinballLoss for step 9: 0.0391680652205825\n"
     ]
    },
    {
     "name": "stderr",
     "output_type": "stream",
     "text": [
      "Training predictor: 100%|██████████| 30/30 [00:04<00:00,  7.43it/s]\n"
     ]
    },
    {
     "name": "stdout",
     "output_type": "stream",
     "text": [
      "predictor PinballLoss for step 10: 0.03857504369737824\n"
     ]
    },
    {
     "name": "stderr",
     "output_type": "stream",
     "text": [
      "Training predictor: 100%|██████████| 30/30 [00:04<00:00,  7.49it/s]\n"
     ]
    },
    {
     "name": "stdout",
     "output_type": "stream",
     "text": [
      "predictor PinballLoss for step 11: 0.03853656335197426\n"
     ]
    },
    {
     "name": "stderr",
     "output_type": "stream",
     "text": [
      "Training predictor: 100%|██████████| 30/30 [00:04<00:00,  6.82it/s]\n"
     ]
    },
    {
     "name": "stdout",
     "output_type": "stream",
     "text": [
      "predictor PinballLoss for step 12: 0.03817105887063379\n"
     ]
    },
    {
     "name": "stderr",
     "output_type": "stream",
     "text": [
      "Training predictor: 100%|██████████| 30/30 [00:04<00:00,  7.17it/s]\n"
     ]
    },
    {
     "name": "stdout",
     "output_type": "stream",
     "text": [
      "predictor PinballLoss for step 13: 0.03816496652494978\n"
     ]
    },
    {
     "name": "stderr",
     "output_type": "stream",
     "text": [
      "Training predictor: 100%|██████████| 30/30 [00:04<00:00,  6.50it/s]\n"
     ]
    },
    {
     "name": "stdout",
     "output_type": "stream",
     "text": [
      "predictor PinballLoss for step 14: 0.037881083976395905\n"
     ]
    },
    {
     "name": "stderr",
     "output_type": "stream",
     "text": [
      "Training predictor: 100%|██████████| 30/30 [00:04<00:00,  6.45it/s]\n"
     ]
    },
    {
     "name": "stdout",
     "output_type": "stream",
     "text": [
      "predictor PinballLoss for step 15: 0.03765601367199825\n"
     ]
    },
    {
     "name": "stderr",
     "output_type": "stream",
     "text": [
      "Training predictor: 100%|██████████| 30/30 [00:04<00:00,  6.28it/s]\n"
     ]
    },
    {
     "name": "stdout",
     "output_type": "stream",
     "text": [
      "predictor PinballLoss for step 16: 0.037688760029820245\n"
     ]
    },
    {
     "name": "stderr",
     "output_type": "stream",
     "text": [
      "Training predictor: 100%|██████████| 30/30 [00:04<00:00,  6.82it/s]\n"
     ]
    },
    {
     "name": "stdout",
     "output_type": "stream",
     "text": [
      "predictor PinballLoss for step 17: 0.037783022475934944\n"
     ]
    },
    {
     "name": "stderr",
     "output_type": "stream",
     "text": [
      "Training predictor: 100%|██████████| 30/30 [00:04<00:00,  6.23it/s]\n"
     ]
    },
    {
     "name": "stdout",
     "output_type": "stream",
     "text": [
      "predictor PinballLoss for step 18: 0.03789374082722228\n"
     ]
    },
    {
     "name": "stderr",
     "output_type": "stream",
     "text": [
      "Training predictor: 100%|██████████| 30/30 [00:04<00:00,  6.15it/s]\n"
     ]
    },
    {
     "name": "stdout",
     "output_type": "stream",
     "text": [
      "predictor PinballLoss for step 19: 0.037873775916350834\n"
     ]
    },
    {
     "name": "stderr",
     "output_type": "stream",
     "text": [
      "Training predictor: 100%|██████████| 30/30 [00:04<00:00,  6.85it/s]\n"
     ]
    },
    {
     "name": "stdout",
     "output_type": "stream",
     "text": [
      "predictor PinballLoss for step 20: 0.037777252182386145\n"
     ]
    },
    {
     "name": "stderr",
     "output_type": "stream",
     "text": [
      "Training predictor: 100%|██████████| 30/30 [00:05<00:00,  5.93it/s]\n"
     ]
    },
    {
     "name": "stdout",
     "output_type": "stream",
     "text": [
      "predictor PinballLoss for step 21: 0.03791941434656734\n"
     ]
    },
    {
     "name": "stderr",
     "output_type": "stream",
     "text": [
      "Training predictor: 100%|██████████| 30/30 [00:04<00:00,  6.85it/s]\n"
     ]
    },
    {
     "name": "stdout",
     "output_type": "stream",
     "text": [
      "predictor PinballLoss for step 22: 0.0378459166253438\n"
     ]
    },
    {
     "name": "stderr",
     "output_type": "stream",
     "text": [
      "Training predictor: 100%|██████████| 30/30 [00:04<00:00,  6.36it/s]\n"
     ]
    },
    {
     "name": "stdout",
     "output_type": "stream",
     "text": [
      "predictor PinballLoss for step 23: 0.03796297895861446\n"
     ]
    }
   ],
   "source": [
    "# Make this on loop and train every time. \n",
    "losses = {model.name: []}\n",
    "for i in range(env.n_steps):\n",
    "    training_input = training_data.loc[:,(slice(None), env.input)]\n",
    "    training_target = training_data.loc[:,(slice(None), env.target)]\n",
    "    model.train(features=training_input, target=training_target)\n",
    "    prediction = model.predict(features=next_input)\n",
    "    next_input, previous_target, training_data, done = env.step()\n",
    "\n",
    "    loss = obj.calculate(previous_target, prediction, mean=False)\n",
    "    losses[model.name].append(loss)\n",
    "\n",
    "    print(f\"{model.name} {obj.name} for step {i+1}: {np.nanmean(loss)}\")\n"
   ]
  },
  {
   "cell_type": "code",
   "execution_count": 288,
   "metadata": {},
   "outputs": [],
   "source": [
    "l = []\n",
    "for loss in losses[\"predictor\"]:\n",
    "    l.append(np.nanmean(loss, axis=(0,2)))\n",
    "#    l = np.append(l, np.nanmean(loss, axis=(0,2), keepdims=True))\n",
    "l = np.vstack(l)"
   ]
  },
  {
   "cell_type": "code",
   "execution_count": 294,
   "metadata": {},
   "outputs": [
    {
     "data": {
      "text/plain": [
       "(23, 10, 2)"
      ]
     },
     "execution_count": 294,
     "metadata": {},
     "output_type": "execute_result"
    }
   ],
   "source": [
    "np.stack([l, l], axis=-1).shape"
   ]
  },
  {
   "cell_type": "code",
   "execution_count": 289,
   "metadata": {},
   "outputs": [
    {
     "data": {
      "image/png": "[encoded data removed]",
      "text/plain": [
       "<Figure size 640x480 with 1 Axes>"
      ]
     },
     "metadata": {},
     "output_type": "display_data"
    }
   ],
   "source": [
    "import matplotlib.pyplot as plt\n",
    "plt.plot(l);"
   ]
  },
  {
   "cell_type": "code",
   "execution_count": null,
   "metadata": {},
   "outputs": [],
   "source": []
  }
 ],
 "metadata": {
  "kernelspec": {
   "display_name": ".venv_treewe",
   "language": "python",
   "name": "python3"
  },
  "language_info": {
   "codemirror_mode": {
    "name": "ipython",
    "version": 3
   },
   "file_extension": ".py",
   "mimetype": "text/x-python",
   "name": "python",
   "nbconvert_exporter": "python",
   "pygments_lexer": "ipython3",
   "version": "3.11.4"
  }
 },
 "nbformat": 4,
 "nbformat_minor": 2
}
